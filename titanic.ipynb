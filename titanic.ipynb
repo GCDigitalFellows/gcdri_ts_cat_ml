{
 "cells": [
  {
   "cell_type": "markdown",
   "metadata": {
    "slideshow": {
     "slide_type": "slide"
    }
   },
   "source": [
    "![Titanic](figs/RMS_titanic_3.jpg)"
   ]
  },
  {
   "cell_type": "markdown",
   "metadata": {
    "slideshow": {
     "slide_type": "slide"
    }
   },
   "source": [
    "# [Kaggle Titanic Data](https://www.kaggle.com/c/titanic/data)"
   ]
  },
  {
   "cell_type": "markdown",
   "metadata": {
    "slideshow": {
     "slide_type": "slide"
    }
   },
   "source": [
    "VARIABLE DESCRIPTIONS\n",
    "=====================\n",
    "```\n",
    "survival: Survival (0 = No; 1 = Yes)|\n",
    "pclass: Passenger Class (1 = 1st; 2 = 2nd; 3 = 3rd)\n",
    "name: Name\n",
    "sex: Sex\n",
    "age: Age\n",
    "```"
   ]
  },
  {
   "cell_type": "markdown",
   "metadata": {
    "slideshow": {
     "slide_type": "slide"
    }
   },
   "source": [
    "VARIABLE DESCRIPTIONS\n",
    "=====================\n",
    "```\n",
    "sibsp: Number of Siblings/Spouses Aboard\n",
    "parch: Number of Parents/Children Aboard\n",
    "ticket: Ticket Number\n",
    "fare: Passenger Fare\n",
    "cabin: Cabin\n",
    "embarked: Port of Embarkation \n",
    "    (C = Cherbourg; Q = Queenstown; S = Southampton)\n",
    "```"
   ]
  },
  {
   "cell_type": "markdown",
   "metadata": {
    "slideshow": {
     "slide_type": "subslide"
    }
   },
   "source": [
    "SPECIAL NOTES\n",
    "==============\n",
    "```\n",
    "Pclass is a proxy for socio-economic status (SES)\n",
    " 1st ~ Upper; 2nd ~ Middle; 3rd ~ Lower\n",
    "\n",
    "Age is in Years; Fractional if Age less than One (1)\n",
    " If the Age is Estimated, it is in the form xx.5\n",
    "```"
   ]
  },
  {
   "cell_type": "markdown",
   "metadata": {
    "slideshow": {
     "slide_type": "subslide"
    }
   },
   "source": [
    "Family Notes\n",
    "============\n",
    "```\n",
    "With respect to the family relation variables (i.e. sibsp and parch)\n",
    "some relations were ignored.  The following are the definitions used\n",
    "for sibsp and parch.\n",
    "\n",
    "Sibling:  Brother, Sister, Stepbrother, or Stepsister of Passenger Aboard Titanic\n",
    "Spouse:   Husband or Wife of Passenger Aboard Titanic (Mistresses and Fiances Ignored)\n",
    "Parent:   Mother or Father of Passenger Aboard Titanic\n",
    "Child:    Son, Daughter, Stepson, or Stepdaughter of Passenger Aboard Titanic\n",
    "\n",
    "Other family relatives excluded from this study include cousins,\n",
    "nephews/nieces, aunts/uncles, and in-laws.  Some children travelled\n",
    "only with a nanny, therefore parch=0 for them.  As well, some\n",
    "travelled with very close friends or neighbors in a village, however,\n",
    "the definitions do not support such relations.\n",
    "```\n"
   ]
  },
  {
   "cell_type": "code",
   "execution_count": null,
   "metadata": {
    "collapsed": false,
    "slideshow": {
     "slide_type": "slide"
    }
   },
   "outputs": [],
   "source": [
    "ls"
   ]
  },
  {
   "cell_type": "code",
   "execution_count": null,
   "metadata": {
    "collapsed": false,
    "slideshow": {
     "slide_type": "slide"
    }
   },
   "outputs": [],
   "source": [
    "import pandas as pd\n",
    "df = pd.read_csv(\"titanic.csv\")\n",
    "df.head()"
   ]
  },
  {
   "cell_type": "markdown",
   "metadata": {
    "slideshow": {
     "slide_type": "slide"
    }
   },
   "source": [
    "# 11 columns, but charts only go up to 5 or so"
   ]
  },
  {
   "cell_type": "markdown",
   "metadata": {
    "slideshow": {
     "slide_type": "slide"
    }
   },
   "source": [
    "![ml](figs/ml_map.png)"
   ]
  },
  {
   "cell_type": "markdown",
   "metadata": {
    "slideshow": {
     "slide_type": "slide"
    }
   },
   "source": [
    "# Where do we start?"
   ]
  },
  {
   "cell_type": "code",
   "execution_count": null,
   "metadata": {
    "collapsed": false,
    "slideshow": {
     "slide_type": "slide"
    }
   },
   "outputs": [],
   "source": [
    "df.head()"
   ]
  },
  {
   "cell_type": "markdown",
   "metadata": {
    "slideshow": {
     "slide_type": "slide"
    }
   },
   "source": [
    "# Data Cleaning\n"
   ]
  },
  {
   "cell_type": "markdown",
   "metadata": {
    "slideshow": {
     "slide_type": "slide"
    }
   },
   "source": [
    "# axis notation \n",
    "![axis](figs/axis.jpg)\n",
    "source: [stackoverflow](http://stackoverflow.com/questions/25773245/ambiguity-in-pandas-dataframe-numpy-array-axis-definition)"
   ]
  },
  {
   "cell_type": "markdown",
   "metadata": {
    "slideshow": {
     "slide_type": "slide"
    }
   },
   "source": [
    "Fancy Indexing\n",
    "==========================\n",
    "![masking](figs/masking.png)\n",
    "\n",
    "modified from [software carpentry](http://v4.software-carpentry.org/matrix/indexing.html)\n"
   ]
  },
  {
   "cell_type": "code",
   "execution_count": null,
   "metadata": {
    "collapsed": false,
    "slideshow": {
     "slide_type": "slide"
    }
   },
   "outputs": [],
   "source": [
    "# lets look for rows that have missing values:\n",
    "print(\"Total # rows\", df.shape)\n",
    "bad_rows = df.isnull().any(axis=1)\n",
    "#true = 1, false = 0, so sum() gives total # true\n",
    "print(\"Total # bad\", bad_rows.sum())"
   ]
  },
  {
   "cell_type": "code",
   "execution_count": null,
   "metadata": {
    "collapsed": false,
    "slideshow": {
     "slide_type": "slide"
    }
   },
   "outputs": [],
   "source": [
    "#too many! so lets see which columns are the worst:\n",
    "df.isnull().sum(axis=0)"
   ]
  },
  {
   "cell_type": "code",
   "execution_count": null,
   "metadata": {
    "collapsed": false,
    "slideshow": {
     "slide_type": "slide"
    }
   },
   "outputs": [],
   "source": [
    "#we're missing loads! of cabin data, so let's drop that on a first pass\n",
    "df_c = df.drop('Cabin', axis=1)\n",
    "df_c.keys()"
   ]
  },
  {
   "cell_type": "code",
   "execution_count": null,
   "metadata": {
    "collapsed": false,
    "slideshow": {
     "slide_type": "slide"
    }
   },
   "outputs": [],
   "source": [
    "#now lets remove missing rows\n",
    "bad_rows = df_c.isnull().any(axis=1)\n",
    "print(\"Total # bad:\", bad_rows.sum()) \n",
    "#~ means not, so ~bad_rows => good rows\n",
    "df_clean = df_c[~bad_rows]\n",
    "print(\"remaing: \", df_clean.shape)"
   ]
  },
  {
   "cell_type": "code",
   "execution_count": null,
   "metadata": {
    "collapsed": false,
    "slideshow": {
     "slide_type": "slide"
    }
   },
   "outputs": [],
   "source": [
    "df_clean.head()"
   ]
  },
  {
   "cell_type": "markdown",
   "metadata": {
    "slideshow": {
     "slide_type": "slide"
    }
   },
   "source": [
    "# How do we deal with catagories and text"
   ]
  },
  {
   "cell_type": "code",
   "execution_count": null,
   "metadata": {
    "collapsed": false,
    "slideshow": {
     "slide_type": "slide"
    }
   },
   "outputs": [],
   "source": [
    "#names and tickets are too complicated, so lets avoid for now\n",
    "# and lets drop survived since to an extent that's what we're trying to uncover\n",
    "#passengerID has no meaning, so remove that too\n",
    "df_filtered = df_clean.drop([\"Name\", \"Ticket\", \"PassengerId\", \"Survived\"], axis=1)\n",
    "df_filtered.head()"
   ]
  },
  {
   "cell_type": "markdown",
   "metadata": {
    "slideshow": {
     "slide_type": "slide"
    }
   },
   "source": [
    "One-Hot Coding\n",
    "==============\n",
    "![one-hot](figs/word2vec-one-hot.png)\n",
    "source: [Amazing Power of Word Vectors](http://www.kdnuggets.com/2016/05/amazing-power-word-vectors.html)"
   ]
  },
  {
   "cell_type": "code",
   "execution_count": null,
   "metadata": {
    "collapsed": false,
    "slideshow": {
     "slide_type": "slide"
    }
   },
   "outputs": [],
   "source": [
    "#Let's one-hot code Pclass, Sex, & Embarked\n",
    "#http://pandas.pydata.org/pandas-docs/stable/generated/pandas.get_dummies.html\n",
    "df_coded = pd.get_dummies(df_filtered, columns=[\"Pclass\", \"Sex\", \"Embarked\"])\n",
    "df_coded.head()"
   ]
  },
  {
   "cell_type": "markdown",
   "metadata": {
    "slideshow": {
     "slide_type": "slide"
    }
   },
   "source": [
    "# So what comes next? "
   ]
  },
  {
   "cell_type": "markdown",
   "metadata": {
    "slideshow": {
     "slide_type": "slide"
    }
   },
   "source": [
    "![proj](figs/proj.jpg)"
   ]
  },
  {
   "cell_type": "code",
   "execution_count": null,
   "metadata": {
    "collapsed": false,
    "slideshow": {
     "slide_type": "slide"
    }
   },
   "outputs": [],
   "source": [
    "#PCA\n",
    "#need to normalize numerical values\n",
    "\n",
    "df_coded['ageN'] = (df_coded['Age']-df_coded['Age'].mean())/df_coded['Age'].std()\n",
    "df_coded['FareN'] = (df_coded['Fare']-df_coded['Fare'].mean())/df_coded['Fare'].std()\n",
    "dfFV = df_coded.drop([\"Age\", \"Fare\"], axis=1)\n",
    "dfFV.head()"
   ]
  },
  {
   "cell_type": "code",
   "execution_count": null,
   "metadata": {
    "collapsed": false,
    "slideshow": {
     "slide_type": "slide"
    }
   },
   "outputs": [],
   "source": [
    "print(dfFV.values)"
   ]
  },
  {
   "cell_type": "code",
   "execution_count": null,
   "metadata": {
    "collapsed": false,
    "slideshow": {
     "slide_type": "slide"
    }
   },
   "outputs": [],
   "source": [
    "#http://scikit-learn.org/stable/modules/generated/sklearn.decomposition.PCA.html\n",
    "from sklearn.decomposition import PCA\n",
    "\n",
    "pca = PCA()\n",
    "pca.fit(dfFV.values)\n",
    "df_reduced = pca.transform(dfFV.values)\n",
    "pca_score = pca.explained_variance_ratio_\n",
    "pca_weights = pca.components_\n"
   ]
  },
  {
   "cell_type": "code",
   "execution_count": null,
   "metadata": {
    "collapsed": false,
    "slideshow": {
     "slide_type": "slide"
    }
   },
   "outputs": [],
   "source": [
    "%matplotlib inline\n",
    "import matplotlib.pyplot as plt\n",
    "fig = plt.figure()\n",
    "ax = fig.add_subplot(1,1,1)\n",
    "ax.set_title(\"PCA component fall off\")\n",
    "ax.plot(pca_score)\n",
    "ax.set_xlabel(\"Component\")\n",
    "ax.set_ylabel(\"Weight\")"
   ]
  },
  {
   "cell_type": "code",
   "execution_count": null,
   "metadata": {
    "collapsed": false,
    "slideshow": {
     "slide_type": "slide"
    }
   },
   "outputs": [],
   "source": [
    "#lsince falls off by 3rd component, lets plot the first two\n",
    "\n",
    "fig = plt.figure()\n",
    "ax = fig.add_subplot(1,1,1)\n",
    "#grab all rows of first and second components (columns of df_reduced)\n",
    "ax.scatter(df_reduced[:,0], df_reduced[:,1])\n",
    "ax.set_xlabel(\"component 1\")\n",
    "ax.set_ylabel(\"component 2\")"
   ]
  },
  {
   "cell_type": "code",
   "execution_count": null,
   "metadata": {
    "collapsed": false,
    "slideshow": {
     "slide_type": "slide"
    }
   },
   "outputs": [],
   "source": [
    "#lets use boolean masks to add class information:\n",
    "yes = df_reduced[(df_clean['Survived']==1).nonzero()]\n",
    "no = df_reduced[(df_clean['Survived']==0).nonzero()]\n",
    "\n",
    "fig = plt.figure()\n",
    "ax = fig.add_subplot(1,1,1)\n",
    "#grab all rows of first and second components (columns of df_reduced)\n",
    "ax.scatter(yes[:,0], yes[:,1], label=\"survived\", color=\"g\")\n",
    "ax.scatter(no[:,0], no[:,1], label=\"died\", color=\"r\")                                   \n",
    "ax.set_xlabel(\"component 1\")\n",
    "ax.set_ylabel(\"component 2\")\n",
    "ax.legend(scatterpoints=1)"
   ]
  },
  {
   "cell_type": "code",
   "execution_count": null,
   "metadata": {
    "collapsed": false,
    "slideshow": {
     "slide_type": "slide"
    }
   },
   "outputs": [],
   "source": [
    "#doesn't seem seperable, but...\n",
    "\n",
    "comp1 = pca_weights.T[0]\n",
    "comp2 = pca_weights.T[1]\n",
    "\n",
    "fig = plt.figure()\n",
    "ax1 = fig.add_subplot(2,1,1)\n",
    "ax1.bar(range(comp1.shape[0]), comp1, align='center')\n",
    "ax1.set_xticks(range(comp1.shape[0]))\n",
    "ax1.set_xlim(-.5,12.5)\n",
    "ax1.set_ylim(-.8,.8)\n",
    "ax1.set_ylabel(\"X axis\")\n",
    "\n",
    "ax2 = fig.add_subplot(2,1,2)\n",
    "ax2.bar(range(comp2.shape[0]), comp2, align='center')\n",
    "ax2.set_xticks(range(comp2.shape[0]))\n",
    "ax2.set_xticklabels(dfFV.keys(), rotation=90)\n",
    "ax2.set_xlim(-.5,12.5)\n",
    "ax2.set_ylim(-.8,.8)\n",
    "ax2.set_ylabel(\"Y axis\")\n",
    "\n",
    "fig.subplots_adjust(wspace=0, hspace=0.06)"
   ]
  },
  {
   "cell_type": "markdown",
   "metadata": {
    "slideshow": {
     "slide_type": "slide"
    }
   },
   "source": [
    "# So not the greatest seperation...new idea?"
   ]
  },
  {
   "cell_type": "markdown",
   "metadata": {
    "slideshow": {
     "slide_type": "slide"
    }
   },
   "source": [
    "![kmeans](figs/kmeans.gif)\n",
    "source: [Project Rhea: Introduction to Clustering](https://www.projectrhea.org/rhea/index.php/SlectureDavidRunyanCS662Spring14)"
   ]
  },
  {
   "cell_type": "code",
   "execution_count": null,
   "metadata": {
    "collapsed": false,
    "slideshow": {
     "slide_type": "slide"
    }
   },
   "outputs": [],
   "source": [
    "\n",
    "from sklearn import metrics\n",
    "from sklearn.cluster import KMeans\n",
    "\n",
    "kmean = KMeans(init='k-means++', n_clusters=2, n_init=10)\n",
    "kmean.fit(dfFV)"
   ]
  },
  {
   "cell_type": "code",
   "execution_count": null,
   "metadata": {
    "collapsed": false,
    "slideshow": {
     "slide_type": "slide"
    }
   },
   "outputs": [],
   "source": [
    "import numpy as np\n",
    "\n",
    "cluster0 = kmean.cluster_centers_[0]\n",
    "cluster1 = kmean.cluster_centers_[1]\n",
    "\n",
    "inds = np.arange(kmean.cluster_centers_.shape[1])\n",
    "\n",
    "\n",
    "fig = plt.figure()\n",
    "ax1 = fig.add_subplot(2,1,1)\n",
    "ax1.bar(inds, cluster0,width=.5, align='center')\n",
    "ax1.bar(inds+.5, cluster1, width=.5, align='center', color='r')\n",
    "ax1.set_xticks(inds+.25)\n",
    "ax1.set_xticklabels(dfFV.keys(), rotation=90)\n",
    "ax1.set_xlim(-.25,11.75)\n",
    "ax1.set_ylabel(\"cluster 0\")\n"
   ]
  },
  {
   "cell_type": "code",
   "execution_count": null,
   "metadata": {
    "collapsed": false,
    "slideshow": {
     "slide_type": "slide"
    }
   },
   "outputs": [],
   "source": [
    "#accuracy? http://scikit-learn.org/stable/modules/clustering.html#clustering-evaluation\n",
    "from sklearn import metrics\n",
    "\n",
    "#since cluster 0 seems to be people who died \n",
    "#and cluster one seems to be people who lived\n",
    "#we can directly compare actual, predicted\n",
    "#raw mismatch\n",
    "print(\"Accuracy: \", (df_clean[\"Survived\"]== kmean.labels_).sum()/kmean.labels_.shape[0])\n",
    "\n",
    "#[-1, 1], negative bad, 1 perfect, others?\n",
    "print(\"Adjusted Rand: \", metrics.adjusted_rand_score(df_clean[\"Survived\"].values, kmean.labels_))\n",
    "print(\"Mutual Info Gain: \", metrics.adjusted_mutual_info_score(df_clean[\"Survived\"].values,kmean.labels_))\n",
    "\n"
   ]
  },
  {
   "cell_type": "markdown",
   "metadata": {
    "slideshow": {
     "slide_type": "slide"
    }
   },
   "source": [
    "# What's next?"
   ]
  },
  {
   "cell_type": "markdown",
   "metadata": {
    "slideshow": {
     "slide_type": "slide"
    }
   },
   "source": [
    "![super](figs/super.gif)\n",
    "source:[Dynamic Science: Classification](http://www.dynamicscience.com.au/tester/solutions1/biology/classification/class.html)"
   ]
  },
  {
   "cell_type": "code",
   "execution_count": null,
   "metadata": {
    "collapsed": false,
    "slideshow": {
     "slide_type": "slide"
    }
   },
   "outputs": [],
   "source": [
    "from sklearn.neighbors import KNeighborsClassifier\n",
    "\n",
    "neigh = KNeighborsClassifier(n_neighbors=10)\n",
    "#fits on values used for prediction, expected class\n",
    "neigh.fit(dfFV.values, df_clean['Survived'].values) \n",
    "print(neigh.score(dfFV.values, df_clean['Survived'].values))"
   ]
  },
  {
   "cell_type": "code",
   "execution_count": null,
   "metadata": {
    "collapsed": false,
    "slideshow": {
     "slide_type": "slide"
    }
   },
   "outputs": [],
   "source": [
    "#how do we predict the class of a value?\n",
    "labels = neigh.predict(dfFV)\n",
    "#confusion matrix is:\n",
    "#[[True Positive, False Negative]]\n",
    "#[[False Positive True Negative]]\n",
    "print(metrics.confusion_matrix(labels, df_clean['Survived'].values))"
   ]
  },
  {
   "cell_type": "code",
   "execution_count": null,
   "metadata": {
    "collapsed": false,
    "slideshow": {
     "slide_type": "slide"
    }
   },
   "outputs": [],
   "source": [
    "%matplotlib inline\n",
    "actual = df_clean['Survived'].values\n",
    "TP = df_reduced[((labels == actual) & (actual==1))]\n",
    "FN = df_reduced[((labels!=actual) & (actual==1))]\n",
    "FP = df_reduced[((labels!=actual) & (actual==0))]\n",
    "TN = df_reduced[((labels==actual) & (actual==0))]\n",
    "\n",
    "fig = plt.figure()\n",
    "ax = fig.add_subplot(1,1,1)\n",
    "ax.scatter(TP[:,0], TP[:,1], color='g', label=\"true positive\")\n",
    "ax.scatter(FN[:,0], FN[:,1], color='m', label=\"false negative\")\n",
    "ax.scatter(FP[:,0], FP[:,1], color='c', label=\"false positive\")\n",
    "ax.scatter(TN[:,0], TN[:,1], color='r', label=\"true negative\")\n",
    "ax.legend(scatterpoints=1, loc=4)"
   ]
  },
  {
   "cell_type": "markdown",
   "metadata": {
    "slideshow": {
     "slide_type": "slide"
    }
   },
   "source": [
    "Challenge\n",
    "==========\n",
    "Test out the classifier!\n",
    "\n",
    "1) Download the file `titanictest.csv` from the [github repo](https://github.com/GCDigitalFellows/gcdri_ts_cat_ml)\n",
    "\n",
    "2) Clean it & encode it in the same manner as `titanic.csv` as it's structured the same\n",
    "\n",
    "3) Use the classifier to predict which class each passenger belongs to\n",
    "\n",
    "4) Evaluate the skill of the classifier\n"
   ]
  }
 ],
 "metadata": {
  "celltoolbar": "Slideshow",
  "kernelspec": {
   "display_name": "Python 3",
   "language": "python",
   "name": "python3"
  },
  "language_info": {
   "codemirror_mode": {
    "name": "ipython",
    "version": 3
   },
   "file_extension": ".py",
   "mimetype": "text/x-python",
   "name": "python",
   "nbconvert_exporter": "python",
   "pygments_lexer": "ipython3",
   "version": "3.5.1"
  }
 },
 "nbformat": 4,
 "nbformat_minor": 0
}
