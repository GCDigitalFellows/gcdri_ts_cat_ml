{
 "cells": [
  {
   "cell_type": "markdown",
   "metadata": {
    "slideshow": {
     "slide_type": "slide"
    }
   },
   "source": [
    "# http://bit.ly/dri18-ml"
   ]
  },
  {
   "cell_type": "markdown",
   "metadata": {
    "slideshow": {
     "slide_type": "slide"
    }
   },
   "source": [
    "# Before Lunch?\n",
    " * Open, filter, and search spreadsheets\n",
    " * Compute & plot descriptive statistics\n",
    " * Generate cross tabulations (group by/pivot table)\n",
    " * Remove missing and invalid data\n",
    " * Numerically encode and Z-score normalize variables\n",
    " * Reduce data dimensions using Principal Component Analysis\n",
    " * Cluster and classifiy data using nearest neighbor approaches \n",
    " * Evaluate algorithm's accuracy and compute confusion matrix\n",
    " "
   ]
  },
  {
   "cell_type": "markdown",
   "metadata": {
    "slideshow": {
     "slide_type": "slide"
    }
   },
   "source": [
    "![Titanic](figs/RMS_titanic_3.jpg)"
   ]
  },
  {
   "cell_type": "markdown",
   "metadata": {
    "slideshow": {
     "slide_type": "slide"
    }
   },
   "source": [
    "# [Kaggle Titanic Data](https://www.kaggle.com/c/titanic/data)"
   ]
  },
  {
   "cell_type": "markdown",
   "metadata": {
    "slideshow": {
     "slide_type": "slide"
    }
   },
   "source": [
    "VARIABLE DESCRIPTIONS\n",
    "=====================\n",
    "```\n",
    "survival: Survival (0 = No; 1 = Yes)|\n",
    "pclass: Passenger Class (1 = 1st; 2 = 2nd; 3 = 3rd)\n",
    "name: Name\n",
    "sex: Sex\n",
    "age: Age\n",
    "```"
   ]
  },
  {
   "cell_type": "markdown",
   "metadata": {
    "slideshow": {
     "slide_type": "slide"
    }
   },
   "source": [
    "VARIABLE DESCRIPTIONS\n",
    "=====================\n",
    "```\n",
    "sibsp: Number of Siblings/Spouses Aboard\n",
    "parch: Number of Parents/Children Aboard\n",
    "ticket: Ticket Number\n",
    "fare: Passenger Fare\n",
    "cabin: Cabin\n",
    "embarked: Port of Embarkation \n",
    "    (C = Cherbourg; Q = Queenstown; S = Southampton)\n",
    "```"
   ]
  },
  {
   "cell_type": "markdown",
   "metadata": {
    "slideshow": {
     "slide_type": "subslide"
    }
   },
   "source": [
    "SPECIAL NOTES\n",
    "==============\n",
    "```\n",
    "Pclass is a proxy for socio-economic status (SES)\n",
    " 1st ~ Upper; 2nd ~ Middle; 3rd ~ Lower\n",
    "\n",
    "Age is in Years; Fractional if Age less than One (1)\n",
    " If the Age is Estimated, it is in the form xx.5\n",
    "```"
   ]
  },
  {
   "cell_type": "markdown",
   "metadata": {
    "slideshow": {
     "slide_type": "subslide"
    }
   },
   "source": [
    "Family Notes\n",
    "============\n",
    "```\n",
    "With respect to the family relation variables (i.e. sibsp and parch)\n",
    "some relations were ignored.  The following are the definitions used\n",
    "for sibsp and parch.\n",
    "\n",
    "Sibling:  Brother, Sister, Stepbrother, or Stepsister of Passenger Aboard Titanic\n",
    "Spouse:   Husband or Wife of Passenger Aboard Titanic (Mistresses and Fiances Ignored)\n",
    "Parent:   Mother or Father of Passenger Aboard Titanic\n",
    "Child:    Son, Daughter, Stepson, or Stepdaughter of Passenger Aboard Titanic\n",
    "\n",
    "Other family relatives excluded from this study include cousins,\n",
    "nephews/nieces, aunts/uncles, and in-laws.  Some children travelled\n",
    "only with a nanny, therefore parch=0 for them.  As well, some\n",
    "travelled with very close friends or neighbors in a village, however,\n",
    "the definitions do not support such relations.\n",
    "```\n"
   ]
  },
  {
   "cell_type": "code",
   "execution_count": 4,
   "metadata": {
    "scrolled": false
   },
   "outputs": [],
   "source": [
    "import pandas as pd\n",
    "print(f'pandas: {pd.__version__}')\n",
    "\n",
    "import numpy as np\n",
    "print(f'numpy: {np.__version__}')\n",
    "\n",
    "import matplotlib\n",
    "import matplotlib.pyplot as plt\n",
    "print(f'matplotlib: {matplotlib.__version__}')"
   ]
  },
  {
   "cell_type": "code",
   "execution_count": 5,
   "metadata": {
    "slideshow": {
     "slide_type": "slide"
    }
   },
   "outputs": [
    {
     "data": {
      "text/html": [
       "<div>\n",
       "<style>\n",
       "    .dataframe thead tr:only-child th {\n",
       "        text-align: right;\n",
       "    }\n",
       "\n",
       "    .dataframe thead th {\n",
       "        text-align: left;\n",
       "    }\n",
       "\n",
       "    .dataframe tbody tr th {\n",
       "        vertical-align: top;\n",
       "    }\n",
       "</style>\n",
       "<table border=\"1\" class=\"dataframe\">\n",
       "  <thead>\n",
       "    <tr style=\"text-align: right;\">\n",
       "      <th></th>\n",
       "      <th>PassengerId</th>\n",
       "      <th>Survived</th>\n",
       "      <th>Pclass</th>\n",
       "      <th>Name</th>\n",
       "      <th>Sex</th>\n",
       "      <th>Age</th>\n",
       "      <th>SibSp</th>\n",
       "      <th>Parch</th>\n",
       "      <th>Ticket</th>\n",
       "      <th>Fare</th>\n",
       "      <th>Cabin</th>\n",
       "      <th>Embarked</th>\n",
       "    </tr>\n",
       "  </thead>\n",
       "  <tbody>\n",
       "    <tr>\n",
       "      <th>0</th>\n",
       "      <td>1</td>\n",
       "      <td>0</td>\n",
       "      <td>3</td>\n",
       "      <td>Braund, Mr. Owen Harris</td>\n",
       "      <td>male</td>\n",
       "      <td>22.0</td>\n",
       "      <td>1</td>\n",
       "      <td>0</td>\n",
       "      <td>A/5 21171</td>\n",
       "      <td>7.2500</td>\n",
       "      <td>NaN</td>\n",
       "      <td>S</td>\n",
       "    </tr>\n",
       "    <tr>\n",
       "      <th>1</th>\n",
       "      <td>2</td>\n",
       "      <td>1</td>\n",
       "      <td>1</td>\n",
       "      <td>Cumings, Mrs. John Bradley (Florence Briggs Th...</td>\n",
       "      <td>female</td>\n",
       "      <td>38.0</td>\n",
       "      <td>1</td>\n",
       "      <td>0</td>\n",
       "      <td>PC 17599</td>\n",
       "      <td>71.2833</td>\n",
       "      <td>C85</td>\n",
       "      <td>C</td>\n",
       "    </tr>\n",
       "    <tr>\n",
       "      <th>2</th>\n",
       "      <td>3</td>\n",
       "      <td>1</td>\n",
       "      <td>3</td>\n",
       "      <td>Heikkinen, Miss. Laina</td>\n",
       "      <td>female</td>\n",
       "      <td>26.0</td>\n",
       "      <td>0</td>\n",
       "      <td>0</td>\n",
       "      <td>STON/O2. 3101282</td>\n",
       "      <td>7.9250</td>\n",
       "      <td>NaN</td>\n",
       "      <td>S</td>\n",
       "    </tr>\n",
       "    <tr>\n",
       "      <th>3</th>\n",
       "      <td>4</td>\n",
       "      <td>1</td>\n",
       "      <td>1</td>\n",
       "      <td>Futrelle, Mrs. Jacques Heath (Lily May Peel)</td>\n",
       "      <td>female</td>\n",
       "      <td>35.0</td>\n",
       "      <td>1</td>\n",
       "      <td>0</td>\n",
       "      <td>113803</td>\n",
       "      <td>53.1000</td>\n",
       "      <td>C123</td>\n",
       "      <td>S</td>\n",
       "    </tr>\n",
       "    <tr>\n",
       "      <th>4</th>\n",
       "      <td>5</td>\n",
       "      <td>0</td>\n",
       "      <td>3</td>\n",
       "      <td>Allen, Mr. William Henry</td>\n",
       "      <td>male</td>\n",
       "      <td>35.0</td>\n",
       "      <td>0</td>\n",
       "      <td>0</td>\n",
       "      <td>373450</td>\n",
       "      <td>8.0500</td>\n",
       "      <td>NaN</td>\n",
       "      <td>S</td>\n",
       "    </tr>\n",
       "  </tbody>\n",
       "</table>\n",
       "</div>"
      ],
      "text/plain": [
       "   PassengerId  Survived  Pclass  \\\n",
       "0            1         0       3   \n",
       "1            2         1       1   \n",
       "2            3         1       3   \n",
       "3            4         1       1   \n",
       "4            5         0       3   \n",
       "\n",
       "                                                Name     Sex   Age  SibSp  \\\n",
       "0                            Braund, Mr. Owen Harris    male  22.0      1   \n",
       "1  Cumings, Mrs. John Bradley (Florence Briggs Th...  female  38.0      1   \n",
       "2                             Heikkinen, Miss. Laina  female  26.0      0   \n",
       "3       Futrelle, Mrs. Jacques Heath (Lily May Peel)  female  35.0      1   \n",
       "4                           Allen, Mr. William Henry    male  35.0      0   \n",
       "\n",
       "   Parch            Ticket     Fare Cabin Embarked  \n",
       "0      0         A/5 21171   7.2500   NaN        S  \n",
       "1      0          PC 17599  71.2833   C85        C  \n",
       "2      0  STON/O2. 3101282   7.9250   NaN        S  \n",
       "3      0            113803  53.1000  C123        S  \n",
       "4      0            373450   8.0500   NaN        S  "
      ]
     },
     "execution_count": 5,
     "metadata": {},
     "output_type": "execute_result"
    }
   ],
   "source": [
    "# read csv can read from a file path or a url\n",
    "df = pd.read_csv(\"http://bit.ly/tscv17\")\n",
    "df.head(5)"
   ]
  },
  {
   "cell_type": "code",
   "execution_count": 6,
   "metadata": {
    "slideshow": {
     "slide_type": "slide"
    }
   },
   "outputs": [
    {
     "name": "stdout",
     "output_type": "stream",
     "text": [
      "<class 'pandas.core.frame.DataFrame'>\n",
      "RangeIndex: 891 entries, 0 to 890\n",
      "Data columns (total 12 columns):\n",
      "PassengerId    891 non-null int64\n",
      "Survived       891 non-null int64\n",
      "Pclass         891 non-null int64\n",
      "Name           891 non-null object\n",
      "Sex            891 non-null object\n",
      "Age            714 non-null float64\n",
      "SibSp          891 non-null int64\n",
      "Parch          891 non-null int64\n",
      "Ticket         891 non-null object\n",
      "Fare           891 non-null float64\n",
      "Cabin          204 non-null object\n",
      "Embarked       889 non-null object\n",
      "dtypes: float64(2), int64(5), object(5)\n",
      "memory usage: 83.6+ KB\n"
     ]
    }
   ],
   "source": [
    "#What do we have, what type is it, and what's missing?\n",
    "df.info()"
   ]
  },
  {
   "cell_type": "code",
   "execution_count": 7,
   "metadata": {
    "slideshow": {
     "slide_type": "slide"
    }
   },
   "outputs": [
    {
     "data": {
      "text/html": [
       "<div>\n",
       "<style>\n",
       "    .dataframe thead tr:only-child th {\n",
       "        text-align: right;\n",
       "    }\n",
       "\n",
       "    .dataframe thead th {\n",
       "        text-align: left;\n",
       "    }\n",
       "\n",
       "    .dataframe tbody tr th {\n",
       "        vertical-align: top;\n",
       "    }\n",
       "</style>\n",
       "<table border=\"1\" class=\"dataframe\">\n",
       "  <thead>\n",
       "    <tr style=\"text-align: right;\">\n",
       "      <th></th>\n",
       "      <th>PassengerId</th>\n",
       "      <th>Survived</th>\n",
       "      <th>Pclass</th>\n",
       "      <th>Age</th>\n",
       "      <th>SibSp</th>\n",
       "      <th>Parch</th>\n",
       "      <th>Fare</th>\n",
       "    </tr>\n",
       "  </thead>\n",
       "  <tbody>\n",
       "    <tr>\n",
       "      <th>count</th>\n",
       "      <td>891.000000</td>\n",
       "      <td>891.000000</td>\n",
       "      <td>891.000000</td>\n",
       "      <td>714.000000</td>\n",
       "      <td>891.000000</td>\n",
       "      <td>891.000000</td>\n",
       "      <td>891.000000</td>\n",
       "    </tr>\n",
       "    <tr>\n",
       "      <th>mean</th>\n",
       "      <td>446.000000</td>\n",
       "      <td>0.383838</td>\n",
       "      <td>2.308642</td>\n",
       "      <td>29.699118</td>\n",
       "      <td>0.523008</td>\n",
       "      <td>0.381594</td>\n",
       "      <td>32.204208</td>\n",
       "    </tr>\n",
       "    <tr>\n",
       "      <th>std</th>\n",
       "      <td>257.353842</td>\n",
       "      <td>0.486592</td>\n",
       "      <td>0.836071</td>\n",
       "      <td>14.526497</td>\n",
       "      <td>1.102743</td>\n",
       "      <td>0.806057</td>\n",
       "      <td>49.693429</td>\n",
       "    </tr>\n",
       "    <tr>\n",
       "      <th>min</th>\n",
       "      <td>1.000000</td>\n",
       "      <td>0.000000</td>\n",
       "      <td>1.000000</td>\n",
       "      <td>0.420000</td>\n",
       "      <td>0.000000</td>\n",
       "      <td>0.000000</td>\n",
       "      <td>0.000000</td>\n",
       "    </tr>\n",
       "    <tr>\n",
       "      <th>25%</th>\n",
       "      <td>223.500000</td>\n",
       "      <td>0.000000</td>\n",
       "      <td>2.000000</td>\n",
       "      <td>20.125000</td>\n",
       "      <td>0.000000</td>\n",
       "      <td>0.000000</td>\n",
       "      <td>7.910400</td>\n",
       "    </tr>\n",
       "    <tr>\n",
       "      <th>50%</th>\n",
       "      <td>446.000000</td>\n",
       "      <td>0.000000</td>\n",
       "      <td>3.000000</td>\n",
       "      <td>28.000000</td>\n",
       "      <td>0.000000</td>\n",
       "      <td>0.000000</td>\n",
       "      <td>14.454200</td>\n",
       "    </tr>\n",
       "    <tr>\n",
       "      <th>75%</th>\n",
       "      <td>668.500000</td>\n",
       "      <td>1.000000</td>\n",
       "      <td>3.000000</td>\n",
       "      <td>38.000000</td>\n",
       "      <td>1.000000</td>\n",
       "      <td>0.000000</td>\n",
       "      <td>31.000000</td>\n",
       "    </tr>\n",
       "    <tr>\n",
       "      <th>max</th>\n",
       "      <td>891.000000</td>\n",
       "      <td>1.000000</td>\n",
       "      <td>3.000000</td>\n",
       "      <td>80.000000</td>\n",
       "      <td>8.000000</td>\n",
       "      <td>6.000000</td>\n",
       "      <td>512.329200</td>\n",
       "    </tr>\n",
       "  </tbody>\n",
       "</table>\n",
       "</div>"
      ],
      "text/plain": [
       "       PassengerId    Survived      Pclass         Age       SibSp  \\\n",
       "count   891.000000  891.000000  891.000000  714.000000  891.000000   \n",
       "mean    446.000000    0.383838    2.308642   29.699118    0.523008   \n",
       "std     257.353842    0.486592    0.836071   14.526497    1.102743   \n",
       "min       1.000000    0.000000    1.000000    0.420000    0.000000   \n",
       "25%     223.500000    0.000000    2.000000   20.125000    0.000000   \n",
       "50%     446.000000    0.000000    3.000000   28.000000    0.000000   \n",
       "75%     668.500000    1.000000    3.000000   38.000000    1.000000   \n",
       "max     891.000000    1.000000    3.000000   80.000000    8.000000   \n",
       "\n",
       "            Parch        Fare  \n",
       "count  891.000000  891.000000  \n",
       "mean     0.381594   32.204208  \n",
       "std      0.806057   49.693429  \n",
       "min      0.000000    0.000000  \n",
       "25%      0.000000    7.910400  \n",
       "50%      0.000000   14.454200  \n",
       "75%      0.000000   31.000000  \n",
       "max      6.000000  512.329200  "
      ]
     },
     "execution_count": 7,
     "metadata": {},
     "output_type": "execute_result"
    }
   ],
   "source": [
    "#how do we take a statistical snapshot?\n",
    "df.describe()"
   ]
  },
  {
   "cell_type": "code",
   "execution_count": 9,
   "metadata": {
    "collapsed": true,
    "slideshow": {
     "slide_type": "slide"
    }
   },
   "outputs": [],
   "source": [
    "# what if we also want categorical descriptions?\n",
    "df.describe?"
   ]
  },
  {
   "cell_type": "code",
   "execution_count": 10,
   "metadata": {
    "slideshow": {
     "slide_type": "slide"
    }
   },
   "outputs": [
    {
     "data": {
      "text/html": [
       "<div>\n",
       "<style>\n",
       "    .dataframe thead tr:only-child th {\n",
       "        text-align: right;\n",
       "    }\n",
       "\n",
       "    .dataframe thead th {\n",
       "        text-align: left;\n",
       "    }\n",
       "\n",
       "    .dataframe tbody tr th {\n",
       "        vertical-align: top;\n",
       "    }\n",
       "</style>\n",
       "<table border=\"1\" class=\"dataframe\">\n",
       "  <thead>\n",
       "    <tr style=\"text-align: right;\">\n",
       "      <th></th>\n",
       "      <th>Name</th>\n",
       "      <th>Sex</th>\n",
       "      <th>Ticket</th>\n",
       "      <th>Cabin</th>\n",
       "      <th>Embarked</th>\n",
       "    </tr>\n",
       "  </thead>\n",
       "  <tbody>\n",
       "    <tr>\n",
       "      <th>count</th>\n",
       "      <td>891</td>\n",
       "      <td>891</td>\n",
       "      <td>891</td>\n",
       "      <td>204</td>\n",
       "      <td>889</td>\n",
       "    </tr>\n",
       "    <tr>\n",
       "      <th>unique</th>\n",
       "      <td>891</td>\n",
       "      <td>2</td>\n",
       "      <td>681</td>\n",
       "      <td>147</td>\n",
       "      <td>3</td>\n",
       "    </tr>\n",
       "    <tr>\n",
       "      <th>top</th>\n",
       "      <td>Tornquist, Mr. William Henry</td>\n",
       "      <td>male</td>\n",
       "      <td>1601</td>\n",
       "      <td>C23 C25 C27</td>\n",
       "      <td>S</td>\n",
       "    </tr>\n",
       "    <tr>\n",
       "      <th>freq</th>\n",
       "      <td>1</td>\n",
       "      <td>577</td>\n",
       "      <td>7</td>\n",
       "      <td>4</td>\n",
       "      <td>644</td>\n",
       "    </tr>\n",
       "  </tbody>\n",
       "</table>\n",
       "</div>"
      ],
      "text/plain": [
       "                                Name   Sex Ticket        Cabin Embarked\n",
       "count                            891   891    891          204      889\n",
       "unique                           891     2    681          147        3\n",
       "top     Tornquist, Mr. William Henry  male   1601  C23 C25 C27        S\n",
       "freq                               1   577      7            4      644"
      ]
     },
     "execution_count": 10,
     "metadata": {},
     "output_type": "execute_result"
    }
   ],
   "source": [
    "# the docs say to use the include keyword and 'O' argument\n",
    "df.describe(include=['O'])"
   ]
  },
  {
   "cell_type": "code",
   "execution_count": 11,
   "metadata": {
    "slideshow": {
     "slide_type": "slide"
    }
   },
   "outputs": [
    {
     "data": {
      "text/plain": [
       "0    549\n",
       "1    342\n",
       "Name: Survived, dtype: int64"
      ]
     },
     "execution_count": 11,
     "metadata": {},
     "output_type": "execute_result"
    }
   ],
   "source": [
    "# How do we see how many people survived?  1=Survived\n",
    "df['Survived'].value_counts()"
   ]
  },
  {
   "cell_type": "code",
   "execution_count": 27,
   "metadata": {},
   "outputs": [
    {
     "data": {
      "text/plain": [
       "array(['S', 'C', 'Q', nan], dtype=object)"
      ]
     },
     "execution_count": 27,
     "metadata": {},
     "output_type": "execute_result"
    }
   ],
   "source": [
    "df['Embarked'].unique()"
   ]
  },
  {
   "cell_type": "code",
   "execution_count": 24,
   "metadata": {},
   "outputs": [
    {
     "data": {
      "text/plain": [
       "Index(['PassengerId', 'Survived', 'Pclass', 'Name', 'Sex', 'Age', 'SibSp',\n",
       "       'Parch', 'Ticket', 'Fare', 'Cabin', 'Embarked'],\n",
       "      dtype='object')"
      ]
     },
     "execution_count": 24,
     "metadata": {},
     "output_type": "execute_result"
    }
   ],
   "source": [
    "df.columns"
   ]
  },
  {
   "cell_type": "code",
   "execution_count": 23,
   "metadata": {
    "slideshow": {
     "slide_type": "slide"
    }
   },
   "outputs": [
    {
     "data": {
      "image/png": "[encoded data removed]",
      "text/plain": [
       "<matplotlib.figure.Figure at 0x11882f3c8>"
      ]
     },
     "metadata": {},
     "output_type": "display_data"
    }
   ],
   "source": [
    "%matplotlib inline\n",
    "fig, ax = plt.subplots()\n",
    "df['Sex'].value_counts().plot.pie(ax=ax)#, #labels=[\"Died\", \"Lived\"])\n",
    "ax.set_aspect('equal') # this makes it a circle"
   ]
  },
  {
   "cell_type": "markdown",
   "metadata": {
    "slideshow": {
     "slide_type": "slide"
    }
   },
   "source": [
    "Challenge\n",
    "=====\n",
    "* Print the value counts of another variable (example: cabin)\n",
    "* Create a pie chart for another variable"
   ]
  },
  {
   "cell_type": "code",
   "execution_count": 67,
   "metadata": {
    "slideshow": {
     "slide_type": "slide"
    }
   },
   "outputs": [
    {
     "data": {
      "text/plain": [
       "<pandas.core.groupby.DataFrameGroupBy object at 0x118c075f8>"
      ]
     },
     "execution_count": 67,
     "metadata": {},
     "output_type": "execute_result"
    }
   ],
   "source": [
    "# What if we want to see how the people who survived differ from those who deid?\n",
    "df.groupby(['Survived'])"
   ]
  },
  {
   "cell_type": "code",
   "execution_count": 68,
   "metadata": {
    "slideshow": {
     "slide_type": "slide"
    }
   },
   "outputs": [
    {
     "data": {
      "text/plain": [
       "[(0,      PassengerId  Survived  Pclass  \\\n",
       "  0              1         0       3   \n",
       "  4              5         0       3   \n",
       "  5              6         0       3   \n",
       "  6              7         0       1   \n",
       "  7              8         0       3   \n",
       "  12            13         0       3   \n",
       "  13            14         0       3   \n",
       "  14            15         0       3   \n",
       "  16            17         0       3   \n",
       "  18            19         0       3   \n",
       "  20            21         0       2   \n",
       "  24            25         0       3   \n",
       "  26            27         0       3   \n",
       "  27            28         0       1   \n",
       "  29            30         0       3   \n",
       "  30            31         0       1   \n",
       "  33            34         0       2   \n",
       "  34            35         0       1   \n",
       "  35            36         0       1   \n",
       "  37            38         0       3   \n",
       "  38            39         0       3   \n",
       "  40            41         0       3   \n",
       "  41            42         0       2   \n",
       "  42            43         0       3   \n",
       "  45            46         0       3   \n",
       "  46            47         0       3   \n",
       "  48            49         0       3   \n",
       "  49            50         0       3   \n",
       "  50            51         0       3   \n",
       "  51            52         0       3   \n",
       "  ..           ...       ...     ...   \n",
       "  844          845         0       3   \n",
       "  845          846         0       3   \n",
       "  846          847         0       3   \n",
       "  847          848         0       3   \n",
       "  848          849         0       2   \n",
       "  850          851         0       3   \n",
       "  851          852         0       3   \n",
       "  852          853         0       3   \n",
       "  854          855         0       2   \n",
       "  859          860         0       3   \n",
       "  860          861         0       3   \n",
       "  861          862         0       2   \n",
       "  863          864         0       3   \n",
       "  864          865         0       2   \n",
       "  867          868         0       1   \n",
       "  868          869         0       3   \n",
       "  870          871         0       3   \n",
       "  872          873         0       1   \n",
       "  873          874         0       3   \n",
       "  876          877         0       3   \n",
       "  877          878         0       3   \n",
       "  878          879         0       3   \n",
       "  881          882         0       3   \n",
       "  882          883         0       3   \n",
       "  883          884         0       2   \n",
       "  884          885         0       3   \n",
       "  885          886         0       3   \n",
       "  886          887         0       2   \n",
       "  888          889         0       3   \n",
       "  890          891         0       3   \n",
       "  \n",
       "                                                    Name     Sex   Age  SibSp  \\\n",
       "  0                              Braund, Mr. Owen Harris    male  22.0      1   \n",
       "  4                             Allen, Mr. William Henry    male  35.0      0   \n",
       "  5                                     Moran, Mr. James    male   NaN      0   \n",
       "  6                              McCarthy, Mr. Timothy J    male  54.0      0   \n",
       "  7                       Palsson, Master. Gosta Leonard    male   2.0      3   \n",
       "  12                      Saundercock, Mr. William Henry    male  20.0      0   \n",
       "  13                         Andersson, Mr. Anders Johan    male  39.0      1   \n",
       "  14                Vestrom, Miss. Hulda Amanda Adolfina  female  14.0      0   \n",
       "  16                                Rice, Master. Eugene    male   2.0      4   \n",
       "  18   Vander Planke, Mrs. Julius (Emelia Maria Vande...  female  31.0      1   \n",
       "  20                                Fynney, Mr. Joseph J    male  35.0      0   \n",
       "  24                       Palsson, Miss. Torborg Danira  female   8.0      3   \n",
       "  26                             Emir, Mr. Farred Chehab    male   NaN      0   \n",
       "  27                      Fortune, Mr. Charles Alexander    male  19.0      3   \n",
       "  29                                 Todoroff, Mr. Lalio    male   NaN      0   \n",
       "  30                            Uruchurtu, Don. Manuel E    male  40.0      0   \n",
       "  33                               Wheadon, Mr. Edward H    male  66.0      0   \n",
       "  34                             Meyer, Mr. Edgar Joseph    male  28.0      1   \n",
       "  35                      Holverson, Mr. Alexander Oskar    male  42.0      1   \n",
       "  37                            Cann, Mr. Ernest Charles    male  21.0      0   \n",
       "  38                  Vander Planke, Miss. Augusta Maria  female  18.0      2   \n",
       "  40      Ahlin, Mrs. Johan (Johanna Persdotter Larsson)  female  40.0      1   \n",
       "  41   Turpin, Mrs. William John Robert (Dorothy Ann ...  female  27.0      1   \n",
       "  42                                 Kraeff, Mr. Theodor    male   NaN      0   \n",
       "  45                            Rogers, Mr. William John    male   NaN      0   \n",
       "  46                                   Lennon, Mr. Denis    male   NaN      1   \n",
       "  48                                 Samaan, Mr. Youssef    male   NaN      2   \n",
       "  49       Arnold-Franchi, Mrs. Josef (Josefine Franchi)  female  18.0      1   \n",
       "  50                          Panula, Master. Juha Niilo    male   7.0      4   \n",
       "  51                        Nosworthy, Mr. Richard Cater    male  21.0      0   \n",
       "  ..                                                 ...     ...   ...    ...   \n",
       "  844                                Culumovic, Mr. Jeso    male  17.0      0   \n",
       "  845                                Abbing, Mr. Anthony    male  42.0      0   \n",
       "  846                           Sage, Mr. Douglas Bullen    male   NaN      8   \n",
       "  847                                 Markoff, Mr. Marin    male  35.0      0   \n",
       "  848                                  Harper, Rev. John    male  28.0      0   \n",
       "  850            Andersson, Master. Sigvard Harald Elias    male   4.0      4   \n",
       "  851                                Svensson, Mr. Johan    male  74.0      0   \n",
       "  852                            Boulos, Miss. Nourelain  female   9.0      1   \n",
       "  854      Carter, Mrs. Ernest Courtenay (Lilian Hughes)  female  44.0      1   \n",
       "  859                                   Razi, Mr. Raihed    male   NaN      0   \n",
       "  860                            Hansen, Mr. Claus Peter    male  41.0      2   \n",
       "  861                        Giles, Mr. Frederick Edward    male  21.0      1   \n",
       "  863                  Sage, Miss. Dorothy Edith \"Dolly\"  female   NaN      8   \n",
       "  864                             Gill, Mr. John William    male  24.0      0   \n",
       "  867               Roebling, Mr. Washington Augustus II    male  31.0      0   \n",
       "  868                        van Melkebeke, Mr. Philemon    male   NaN      0   \n",
       "  870                                  Balkic, Mr. Cerin    male  26.0      0   \n",
       "  872                           Carlsson, Mr. Frans Olof    male  33.0      0   \n",
       "  873                        Vander Cruyssen, Mr. Victor    male  47.0      0   \n",
       "  876                      Gustafsson, Mr. Alfred Ossian    male  20.0      0   \n",
       "  877                               Petroff, Mr. Nedelio    male  19.0      0   \n",
       "  878                                 Laleff, Mr. Kristo    male   NaN      0   \n",
       "  881                                 Markun, Mr. Johann    male  33.0      0   \n",
       "  882                       Dahlberg, Miss. Gerda Ulrika  female  22.0      0   \n",
       "  883                      Banfield, Mr. Frederick James    male  28.0      0   \n",
       "  884                             Sutehall, Mr. Henry Jr    male  25.0      0   \n",
       "  885               Rice, Mrs. William (Margaret Norton)  female  39.0      0   \n",
       "  886                              Montvila, Rev. Juozas    male  27.0      0   \n",
       "  888           Johnston, Miss. Catherine Helen \"Carrie\"  female   NaN      1   \n",
       "  890                                Dooley, Mr. Patrick    male  32.0      0   \n",
       "  \n",
       "       Parch            Ticket      Fare        Cabin Embarked  \n",
       "  0        0         A/5 21171    7.2500          NaN        S  \n",
       "  4        0            373450    8.0500          NaN        S  \n",
       "  5        0            330877    8.4583          NaN        Q  \n",
       "  6        0             17463   51.8625          E46        S  \n",
       "  7        1            349909   21.0750          NaN        S  \n",
       "  12       0         A/5. 2151    8.0500          NaN        S  \n",
       "  13       5            347082   31.2750          NaN        S  \n",
       "  14       0            350406    7.8542          NaN        S  \n",
       "  16       1            382652   29.1250          NaN        Q  \n",
       "  18       0            345763   18.0000          NaN        S  \n",
       "  20       0            239865   26.0000          NaN        S  \n",
       "  24       1            349909   21.0750          NaN        S  \n",
       "  26       0              2631    7.2250          NaN        C  \n",
       "  27       2             19950  263.0000  C23 C25 C27        S  \n",
       "  29       0            349216    7.8958          NaN        S  \n",
       "  30       0          PC 17601   27.7208          NaN        C  \n",
       "  33       0        C.A. 24579   10.5000          NaN        S  \n",
       "  34       0          PC 17604   82.1708          NaN        C  \n",
       "  35       0            113789   52.0000          NaN        S  \n",
       "  37       0        A./5. 2152    8.0500          NaN        S  \n",
       "  38       0            345764   18.0000          NaN        S  \n",
       "  40       0              7546    9.4750          NaN        S  \n",
       "  41       0             11668   21.0000          NaN        S  \n",
       "  42       0            349253    7.8958          NaN        C  \n",
       "  45       0   S.C./A.4. 23567    8.0500          NaN        S  \n",
       "  46       0            370371   15.5000          NaN        Q  \n",
       "  48       0              2662   21.6792          NaN        C  \n",
       "  49       0            349237   17.8000          NaN        S  \n",
       "  50       1           3101295   39.6875          NaN        S  \n",
       "  51       0        A/4. 39886    7.8000          NaN        S  \n",
       "  ..     ...               ...       ...          ...      ...  \n",
       "  844      0            315090    8.6625          NaN        S  \n",
       "  845      0         C.A. 5547    7.5500          NaN        S  \n",
       "  846      2          CA. 2343   69.5500          NaN        S  \n",
       "  847      0            349213    7.8958          NaN        C  \n",
       "  848      1            248727   33.0000          NaN        S  \n",
       "  850      2            347082   31.2750          NaN        S  \n",
       "  851      0            347060    7.7750          NaN        S  \n",
       "  852      1              2678   15.2458          NaN        C  \n",
       "  854      0            244252   26.0000          NaN        S  \n",
       "  859      0              2629    7.2292          NaN        C  \n",
       "  860      0            350026   14.1083          NaN        S  \n",
       "  861      0             28134   11.5000          NaN        S  \n",
       "  863      2          CA. 2343   69.5500          NaN        S  \n",
       "  864      0            233866   13.0000          NaN        S  \n",
       "  867      0          PC 17590   50.4958          A24        S  \n",
       "  868      0            345777    9.5000          NaN        S  \n",
       "  870      0            349248    7.8958          NaN        S  \n",
       "  872      0               695    5.0000  B51 B53 B55        S  \n",
       "  873      0            345765    9.0000          NaN        S  \n",
       "  876      0              7534    9.8458          NaN        S  \n",
       "  877      0            349212    7.8958          NaN        S  \n",
       "  878      0            349217    7.8958          NaN        S  \n",
       "  881      0            349257    7.8958          NaN        S  \n",
       "  882      0              7552   10.5167          NaN        S  \n",
       "  883      0  C.A./SOTON 34068   10.5000          NaN        S  \n",
       "  884      0   SOTON/OQ 392076    7.0500          NaN        S  \n",
       "  885      5            382652   29.1250          NaN        Q  \n",
       "  886      0            211536   13.0000          NaN        S  \n",
       "  888      2        W./C. 6607   23.4500          NaN        S  \n",
       "  890      0            370376    7.7500          NaN        Q  \n",
       "  \n",
       "  [549 rows x 12 columns]), (1,      PassengerId  Survived  Pclass  \\\n",
       "  1              2         1       1   \n",
       "  2              3         1       3   \n",
       "  3              4         1       1   \n",
       "  8              9         1       3   \n",
       "  9             10         1       2   \n",
       "  10            11         1       3   \n",
       "  11            12         1       1   \n",
       "  15            16         1       2   \n",
       "  17            18         1       2   \n",
       "  19            20         1       3   \n",
       "  21            22         1       2   \n",
       "  22            23         1       3   \n",
       "  23            24         1       1   \n",
       "  25            26         1       3   \n",
       "  28            29         1       3   \n",
       "  31            32         1       1   \n",
       "  32            33         1       3   \n",
       "  36            37         1       3   \n",
       "  39            40         1       3   \n",
       "  43            44         1       2   \n",
       "  44            45         1       3   \n",
       "  47            48         1       3   \n",
       "  52            53         1       1   \n",
       "  53            54         1       2   \n",
       "  55            56         1       1   \n",
       "  56            57         1       2   \n",
       "  58            59         1       2   \n",
       "  61            62         1       1   \n",
       "  65            66         1       3   \n",
       "  66            67         1       2   \n",
       "  ..           ...       ...     ...   \n",
       "  809          810         1       1   \n",
       "  820          821         1       1   \n",
       "  821          822         1       3   \n",
       "  823          824         1       3   \n",
       "  827          828         1       2   \n",
       "  828          829         1       3   \n",
       "  829          830         1       1   \n",
       "  830          831         1       3   \n",
       "  831          832         1       2   \n",
       "  835          836         1       1   \n",
       "  838          839         1       3   \n",
       "  839          840         1       1   \n",
       "  842          843         1       1   \n",
       "  849          850         1       1   \n",
       "  853          854         1       1   \n",
       "  855          856         1       3   \n",
       "  856          857         1       1   \n",
       "  857          858         1       1   \n",
       "  858          859         1       3   \n",
       "  862          863         1       1   \n",
       "  865          866         1       2   \n",
       "  866          867         1       2   \n",
       "  869          870         1       3   \n",
       "  871          872         1       1   \n",
       "  874          875         1       2   \n",
       "  875          876         1       3   \n",
       "  879          880         1       1   \n",
       "  880          881         1       2   \n",
       "  887          888         1       1   \n",
       "  889          890         1       1   \n",
       "  \n",
       "                                                    Name     Sex    Age  SibSp  \\\n",
       "  1    Cumings, Mrs. John Bradley (Florence Briggs Th...  female  38.00      1   \n",
       "  2                               Heikkinen, Miss. Laina  female  26.00      0   \n",
       "  3         Futrelle, Mrs. Jacques Heath (Lily May Peel)  female  35.00      1   \n",
       "  8    Johnson, Mrs. Oscar W (Elisabeth Vilhelmina Berg)  female  27.00      0   \n",
       "  9                  Nasser, Mrs. Nicholas (Adele Achem)  female  14.00      1   \n",
       "  10                     Sandstrom, Miss. Marguerite Rut  female   4.00      1   \n",
       "  11                            Bonnell, Miss. Elizabeth  female  58.00      0   \n",
       "  15                    Hewlett, Mrs. (Mary D Kingcome)   female  55.00      0   \n",
       "  17                        Williams, Mr. Charles Eugene    male    NaN      0   \n",
       "  19                             Masselmani, Mrs. Fatima  female    NaN      0   \n",
       "  21                               Beesley, Mr. Lawrence    male  34.00      0   \n",
       "  22                         McGowan, Miss. Anna \"Annie\"  female  15.00      0   \n",
       "  23                        Sloper, Mr. William Thompson    male  28.00      0   \n",
       "  25   Asplund, Mrs. Carl Oscar (Selma Augusta Emilia...  female  38.00      1   \n",
       "  28                       O'Dwyer, Miss. Ellen \"Nellie\"  female    NaN      0   \n",
       "  31      Spencer, Mrs. William Augustus (Marie Eugenie)  female    NaN      1   \n",
       "  32                            Glynn, Miss. Mary Agatha  female    NaN      0   \n",
       "  36                                    Mamee, Mr. Hanna    male    NaN      0   \n",
       "  39                         Nicola-Yarred, Miss. Jamila  female  14.00      1   \n",
       "  43            Laroche, Miss. Simonne Marie Anne Andree  female   3.00      1   \n",
       "  44                       Devaney, Miss. Margaret Delia  female  19.00      0   \n",
       "  47                           O'Driscoll, Miss. Bridget  female    NaN      0   \n",
       "  52            Harper, Mrs. Henry Sleeper (Myna Haxtun)  female  49.00      1   \n",
       "  53   Faunthorpe, Mrs. Lizzie (Elizabeth Anne Wilkin...  female  29.00      1   \n",
       "  55                                   Woolner, Mr. Hugh    male    NaN      0   \n",
       "  56                                   Rugg, Miss. Emily  female  21.00      0   \n",
       "  58                        West, Miss. Constance Mirium  female   5.00      1   \n",
       "  61                                 Icard, Miss. Amelie  female  38.00      0   \n",
       "  65                            Moubarek, Master. Gerios    male    NaN      1   \n",
       "  66                        Nye, Mrs. (Elizabeth Ramell)  female  29.00      0   \n",
       "  ..                                                 ...     ...    ...    ...   \n",
       "  809     Chambers, Mrs. Norman Campbell (Bertha Griggs)  female  33.00      1   \n",
       "  820  Hays, Mrs. Charles Melville (Clara Jennings Gr...  female  52.00      1   \n",
       "  821                                  Lulic, Mr. Nikola    male  27.00      0   \n",
       "  823                                 Moor, Mrs. (Beila)  female  27.00      0   \n",
       "  827                              Mallet, Master. Andre    male   1.00      0   \n",
       "  828                       McCormack, Mr. Thomas Joseph    male    NaN      0   \n",
       "  829          Stone, Mrs. George Nelson (Martha Evelyn)  female  62.00      0   \n",
       "  830            Yasbeck, Mrs. Antoni (Selini Alexander)  female  15.00      1   \n",
       "  831                    Richards, Master. George Sibley    male   0.83      1   \n",
       "  835                        Compton, Miss. Sara Rebecca  female  39.00      1   \n",
       "  838                                    Chip, Mr. Chang    male  32.00      0   \n",
       "  839                               Marechal, Mr. Pierre    male    NaN      0   \n",
       "  842                            Serepeca, Miss. Augusta  female  30.00      0   \n",
       "  849       Goldenberg, Mrs. Samuel L (Edwiga Grabowska)  female    NaN      1   \n",
       "  853                          Lines, Miss. Mary Conover  female  16.00      0   \n",
       "  855                         Aks, Mrs. Sam (Leah Rosen)  female  18.00      0   \n",
       "  856         Wick, Mrs. George Dennick (Mary Hitchcock)  female  45.00      1   \n",
       "  857                             Daly, Mr. Peter Denis     male  51.00      0   \n",
       "  858              Baclini, Mrs. Solomon (Latifa Qurban)  female  24.00      0   \n",
       "  862  Swift, Mrs. Frederick Joel (Margaret Welles Ba...  female  48.00      0   \n",
       "  865                           Bystrom, Mrs. (Karolina)  female  42.00      0   \n",
       "  866                       Duran y More, Miss. Asuncion  female  27.00      1   \n",
       "  869                    Johnson, Master. Harold Theodor    male   4.00      1   \n",
       "  871   Beckwith, Mrs. Richard Leonard (Sallie Monypeny)  female  47.00      1   \n",
       "  874              Abelson, Mrs. Samuel (Hannah Wizosky)  female  28.00      1   \n",
       "  875                   Najib, Miss. Adele Kiamie \"Jane\"  female  15.00      0   \n",
       "  879      Potter, Mrs. Thomas Jr (Lily Alexenia Wilson)  female  56.00      0   \n",
       "  880       Shelley, Mrs. William (Imanita Parrish Hall)  female  25.00      0   \n",
       "  887                       Graham, Miss. Margaret Edith  female  19.00      0   \n",
       "  889                              Behr, Mr. Karl Howell    male  26.00      0   \n",
       "  \n",
       "       Parch            Ticket      Fare Cabin Embarked  \n",
       "  1        0          PC 17599   71.2833   C85        C  \n",
       "  2        0  STON/O2. 3101282    7.9250   NaN        S  \n",
       "  3        0            113803   53.1000  C123        S  \n",
       "  8        2            347742   11.1333   NaN        S  \n",
       "  9        0            237736   30.0708   NaN        C  \n",
       "  10       1           PP 9549   16.7000    G6        S  \n",
       "  11       0            113783   26.5500  C103        S  \n",
       "  15       0            248706   16.0000   NaN        S  \n",
       "  17       0            244373   13.0000   NaN        S  \n",
       "  19       0              2649    7.2250   NaN        C  \n",
       "  21       0            248698   13.0000   D56        S  \n",
       "  22       0            330923    8.0292   NaN        Q  \n",
       "  23       0            113788   35.5000    A6        S  \n",
       "  25       5            347077   31.3875   NaN        S  \n",
       "  28       0            330959    7.8792   NaN        Q  \n",
       "  31       0          PC 17569  146.5208   B78        C  \n",
       "  32       0            335677    7.7500   NaN        Q  \n",
       "  36       0              2677    7.2292   NaN        C  \n",
       "  39       0              2651   11.2417   NaN        C  \n",
       "  43       2     SC/Paris 2123   41.5792   NaN        C  \n",
       "  44       0            330958    7.8792   NaN        Q  \n",
       "  47       0             14311    7.7500   NaN        Q  \n",
       "  52       0          PC 17572   76.7292   D33        C  \n",
       "  53       0              2926   26.0000   NaN        S  \n",
       "  55       0             19947   35.5000   C52        S  \n",
       "  56       0        C.A. 31026   10.5000   NaN        S  \n",
       "  58       2        C.A. 34651   27.7500   NaN        S  \n",
       "  61       0            113572   80.0000   B28      NaN  \n",
       "  65       1              2661   15.2458   NaN        C  \n",
       "  66       0        C.A. 29395   10.5000   F33        S  \n",
       "  ..     ...               ...       ...   ...      ...  \n",
       "  809      0            113806   53.1000    E8        S  \n",
       "  820      1             12749   93.5000   B69        S  \n",
       "  821      0            315098    8.6625   NaN        S  \n",
       "  823      1            392096   12.4750  E121        S  \n",
       "  827      2   S.C./PARIS 2079   37.0042   NaN        C  \n",
       "  828      0            367228    7.7500   NaN        Q  \n",
       "  829      0            113572   80.0000   B28      NaN  \n",
       "  830      0              2659   14.4542   NaN        C  \n",
       "  831      1             29106   18.7500   NaN        S  \n",
       "  835      1          PC 17756   83.1583   E49        C  \n",
       "  838      0              1601   56.4958   NaN        S  \n",
       "  839      0             11774   29.7000   C47        C  \n",
       "  842      0            113798   31.0000   NaN        C  \n",
       "  849      0             17453   89.1042   C92        C  \n",
       "  853      1          PC 17592   39.4000   D28        S  \n",
       "  855      1            392091    9.3500   NaN        S  \n",
       "  856      1             36928  164.8667   NaN        S  \n",
       "  857      0            113055   26.5500   E17        S  \n",
       "  858      3              2666   19.2583   NaN        C  \n",
       "  862      0             17466   25.9292   D17        S  \n",
       "  865      0            236852   13.0000   NaN        S  \n",
       "  866      0     SC/PARIS 2149   13.8583   NaN        C  \n",
       "  869      1            347742   11.1333   NaN        S  \n",
       "  871      1             11751   52.5542   D35        S  \n",
       "  874      0         P/PP 3381   24.0000   NaN        C  \n",
       "  875      0              2667    7.2250   NaN        C  \n",
       "  879      1             11767   83.1583   C50        C  \n",
       "  880      1            230433   26.0000   NaN        S  \n",
       "  887      0            112053   30.0000   B42        S  \n",
       "  889      0            111369   30.0000  C148        C  \n",
       "  \n",
       "  [342 rows x 12 columns])]"
      ]
     },
     "execution_count": 68,
     "metadata": {},
     "output_type": "execute_result"
    }
   ],
   "source": [
    "list(df.groupby(['Survived']))"
   ]
  },
  {
   "cell_type": "code",
   "execution_count": 32,
   "metadata": {
    "slideshow": {
     "slide_type": "slide"
    }
   },
   "outputs": [
    {
     "data": {
      "text/html": [
       "<div>\n",
       "<style>\n",
       "    .dataframe thead tr:only-child th {\n",
       "        text-align: right;\n",
       "    }\n",
       "\n",
       "    .dataframe thead th {\n",
       "        text-align: left;\n",
       "    }\n",
       "\n",
       "    .dataframe tbody tr th {\n",
       "        vertical-align: top;\n",
       "    }\n",
       "</style>\n",
       "<table border=\"1\" class=\"dataframe\">\n",
       "  <thead>\n",
       "    <tr style=\"text-align: right;\">\n",
       "      <th></th>\n",
       "      <th>PassengerId</th>\n",
       "      <th>Pclass</th>\n",
       "      <th>Name</th>\n",
       "      <th>Sex</th>\n",
       "      <th>Age</th>\n",
       "      <th>SibSp</th>\n",
       "      <th>Parch</th>\n",
       "      <th>Ticket</th>\n",
       "      <th>Fare</th>\n",
       "      <th>Cabin</th>\n",
       "      <th>Embarked</th>\n",
       "    </tr>\n",
       "    <tr>\n",
       "      <th>Survived</th>\n",
       "      <th></th>\n",
       "      <th></th>\n",
       "      <th></th>\n",
       "      <th></th>\n",
       "      <th></th>\n",
       "      <th></th>\n",
       "      <th></th>\n",
       "      <th></th>\n",
       "      <th></th>\n",
       "      <th></th>\n",
       "      <th></th>\n",
       "    </tr>\n",
       "  </thead>\n",
       "  <tbody>\n",
       "    <tr>\n",
       "      <th>0</th>\n",
       "      <td>549</td>\n",
       "      <td>549</td>\n",
       "      <td>549</td>\n",
       "      <td>549</td>\n",
       "      <td>424</td>\n",
       "      <td>549</td>\n",
       "      <td>549</td>\n",
       "      <td>549</td>\n",
       "      <td>549</td>\n",
       "      <td>68</td>\n",
       "      <td>549</td>\n",
       "    </tr>\n",
       "    <tr>\n",
       "      <th>1</th>\n",
       "      <td>342</td>\n",
       "      <td>342</td>\n",
       "      <td>342</td>\n",
       "      <td>342</td>\n",
       "      <td>290</td>\n",
       "      <td>342</td>\n",
       "      <td>342</td>\n",
       "      <td>342</td>\n",
       "      <td>342</td>\n",
       "      <td>136</td>\n",
       "      <td>340</td>\n",
       "    </tr>\n",
       "  </tbody>\n",
       "</table>\n",
       "</div>"
      ],
      "text/plain": [
       "          PassengerId  Pclass  Name  Sex  Age  SibSp  Parch  Ticket  Fare  \\\n",
       "Survived                                                                    \n",
       "0                 549     549   549  549  424    549    549     549   549   \n",
       "1                 342     342   342  342  290    342    342     342   342   \n",
       "\n",
       "          Cabin  Embarked  \n",
       "Survived                   \n",
       "0            68       549  \n",
       "1           136       340  "
      ]
     },
     "execution_count": 32,
     "metadata": {},
     "output_type": "execute_result"
    }
   ],
   "source": [
    "# How do we get a summary of that?\n",
    "df.groupby(['Survived']).count()"
   ]
  },
  {
   "cell_type": "code",
   "execution_count": 33,
   "metadata": {},
   "outputs": [
    {
     "data": {
      "text/plain": [
       "Sex     Pclass\n",
       "female  1          94\n",
       "        2          76\n",
       "        3         144\n",
       "male    1         122\n",
       "        2         108\n",
       "        3         347\n",
       "Name: Survived, dtype: int64"
      ]
     },
     "execution_count": 33,
     "metadata": {},
     "output_type": "execute_result"
    }
   ],
   "source": [
    "#how do we now disaggregate the data to compute a cross tabulation?\n",
    "by_demo = df.groupby(['Sex', 'Pclass'])\n",
    "#unstack creates the table\n",
    "by_demo['Survived'].count()"
   ]
  },
  {
   "cell_type": "code",
   "execution_count": 37,
   "metadata": {
    "slideshow": {
     "slide_type": "slide"
    }
   },
   "outputs": [
    {
     "data": {
      "text/html": [
       "<div>\n",
       "<style>\n",
       "    .dataframe thead tr:only-child th {\n",
       "        text-align: right;\n",
       "    }\n",
       "\n",
       "    .dataframe thead th {\n",
       "        text-align: left;\n",
       "    }\n",
       "\n",
       "    .dataframe tbody tr th {\n",
       "        vertical-align: top;\n",
       "    }\n",
       "</style>\n",
       "<table border=\"1\" class=\"dataframe\">\n",
       "  <thead>\n",
       "    <tr style=\"text-align: right;\">\n",
       "      <th>Pclass</th>\n",
       "      <th>1</th>\n",
       "      <th>2</th>\n",
       "      <th>3</th>\n",
       "    </tr>\n",
       "    <tr>\n",
       "      <th>Sex</th>\n",
       "      <th></th>\n",
       "      <th></th>\n",
       "      <th></th>\n",
       "    </tr>\n",
       "  </thead>\n",
       "  <tbody>\n",
       "    <tr>\n",
       "      <th>female</th>\n",
       "      <td>91</td>\n",
       "      <td>70</td>\n",
       "      <td>72</td>\n",
       "    </tr>\n",
       "    <tr>\n",
       "      <th>male</th>\n",
       "      <td>45</td>\n",
       "      <td>17</td>\n",
       "      <td>47</td>\n",
       "    </tr>\n",
       "  </tbody>\n",
       "</table>\n",
       "</div>"
      ],
      "text/plain": [
       "Pclass   1   2   3\n",
       "Sex               \n",
       "female  91  70  72\n",
       "male    45  17  47"
      ]
     },
     "execution_count": 37,
     "metadata": {},
     "output_type": "execute_result"
    }
   ],
   "source": [
    "# Can we put it into a table?\n",
    "by_demo['Survived'].sum().unstack() "
   ]
  },
  {
   "cell_type": "code",
   "execution_count": 41,
   "metadata": {
    "slideshow": {
     "slide_type": "slide"
    }
   },
   "outputs": [
    {
     "data": {
      "text/plain": [
       "Sex     Pclass\n",
       "female  1         0.968085\n",
       "        2         0.921053\n",
       "        3         0.500000\n",
       "male    1         0.368852\n",
       "        2         0.157407\n",
       "        3         0.135447\n",
       "Name: Survived, dtype: float64"
      ]
     },
     "execution_count": 41,
     "metadata": {},
     "output_type": "execute_result"
    }
   ],
   "source": [
    "#Let's compute a survival rate\n",
    "Survival_rate = by_demo['Survived'].sum()/by_demo['Survived'].count()\n",
    "Survival_rate"
   ]
  },
  {
   "cell_type": "code",
   "execution_count": 40,
   "metadata": {
    "slideshow": {
     "slide_type": "slide"
    }
   },
   "outputs": [
    {
     "data": {
      "text/plain": [
       "<matplotlib.axes._subplots.AxesSubplot at 0x11858c9e8>"
      ]
     },
     "execution_count": 40,
     "metadata": {},
     "output_type": "execute_result"
    },
    {
     "data": {
      "image/png": "[encoded data removed]",
      "text/plain": [
       "<matplotlib.figure.Figure at 0x1186ed668>"
      ]
     },
     "metadata": {},
     "output_type": "display_data"
    }
   ],
   "source": [
    "# And let's plot that\n",
    "%matplotlib inline\n",
    "Survival_rate.plot.bar()"
   ]
  },
  {
   "cell_type": "markdown",
   "metadata": {
    "slideshow": {
     "slide_type": "slide"
    }
   },
   "source": [
    "# can we group?\n",
    "Survival_rate.unstack().plot.bar()\n",
    "Survival_rate.unstack()"
   ]
  },
  {
   "cell_type": "code",
   "execution_count": 46,
   "metadata": {},
   "outputs": [
    {
     "data": {
      "image/png": "[encoded data removed]",
      "text/plain": [
       "<matplotlib.figure.Figure at 0x1182d3860>"
      ]
     },
     "metadata": {},
     "output_type": "display_data"
    },
    {
     "data": {
      "text/html": [
       "<div>\n",
       "<style>\n",
       "    .dataframe thead tr:only-child th {\n",
       "        text-align: right;\n",
       "    }\n",
       "\n",
       "    .dataframe thead th {\n",
       "        text-align: left;\n",
       "    }\n",
       "\n",
       "    .dataframe tbody tr th {\n",
       "        vertical-align: top;\n",
       "    }\n",
       "</style>\n",
       "<table border=\"1\" class=\"dataframe\">\n",
       "  <thead>\n",
       "    <tr style=\"text-align: right;\">\n",
       "      <th>Pclass</th>\n",
       "      <th>1</th>\n",
       "      <th>2</th>\n",
       "      <th>3</th>\n",
       "    </tr>\n",
       "    <tr>\n",
       "      <th>Sex</th>\n",
       "      <th></th>\n",
       "      <th></th>\n",
       "      <th></th>\n",
       "    </tr>\n",
       "  </thead>\n",
       "  <tbody>\n",
       "    <tr>\n",
       "      <th>female</th>\n",
       "      <td>0.968085</td>\n",
       "      <td>0.921053</td>\n",
       "      <td>0.500000</td>\n",
       "    </tr>\n",
       "    <tr>\n",
       "      <th>male</th>\n",
       "      <td>0.368852</td>\n",
       "      <td>0.157407</td>\n",
       "      <td>0.135447</td>\n",
       "    </tr>\n",
       "  </tbody>\n",
       "</table>\n",
       "</div>"
      ],
      "text/plain": [
       "Pclass         1         2         3\n",
       "Sex                                 \n",
       "female  0.968085  0.921053  0.500000\n",
       "male    0.368852  0.157407  0.135447"
      ]
     },
     "execution_count": 46,
     "metadata": {},
     "output_type": "execute_result"
    }
   ],
   "source": [
    "Survival_rate.unstack().plot.bar()\n",
    "plt.show()\n",
    "Survival_rate.unstack()"
   ]
  },
  {
   "cell_type": "code",
   "execution_count": 48,
   "metadata": {},
   "outputs": [
    {
     "data": {
      "text/html": [
       "<div>\n",
       "<style>\n",
       "    .dataframe thead tr:only-child th {\n",
       "        text-align: right;\n",
       "    }\n",
       "\n",
       "    .dataframe thead th {\n",
       "        text-align: left;\n",
       "    }\n",
       "\n",
       "    .dataframe tbody tr th {\n",
       "        vertical-align: top;\n",
       "    }\n",
       "</style>\n",
       "<table border=\"1\" class=\"dataframe\">\n",
       "  <thead>\n",
       "    <tr style=\"text-align: right;\">\n",
       "      <th>Sex</th>\n",
       "      <th>female</th>\n",
       "      <th>male</th>\n",
       "    </tr>\n",
       "    <tr>\n",
       "      <th>Pclass</th>\n",
       "      <th></th>\n",
       "      <th></th>\n",
       "    </tr>\n",
       "  </thead>\n",
       "  <tbody>\n",
       "    <tr>\n",
       "      <th>1</th>\n",
       "      <td>0.968085</td>\n",
       "      <td>0.368852</td>\n",
       "    </tr>\n",
       "    <tr>\n",
       "      <th>2</th>\n",
       "      <td>0.921053</td>\n",
       "      <td>0.157407</td>\n",
       "    </tr>\n",
       "    <tr>\n",
       "      <th>3</th>\n",
       "      <td>0.500000</td>\n",
       "      <td>0.135447</td>\n",
       "    </tr>\n",
       "  </tbody>\n",
       "</table>\n",
       "</div>"
      ],
      "text/plain": [
       "Sex       female      male\n",
       "Pclass                    \n",
       "1       0.968085  0.368852\n",
       "2       0.921053  0.157407\n",
       "3       0.500000  0.135447"
      ]
     },
     "execution_count": 48,
     "metadata": {},
     "output_type": "execute_result"
    },
    {
     "data": {
      "image/png": "[encoded data removed]",
      "text/plain": [
       "<matplotlib.figure.Figure at 0x1182e21d0>"
      ]
     },
     "metadata": {},
     "output_type": "display_data"
    }
   ],
   "source": [
    "#what about grouped by sex first?\n",
    "# can we group?\n",
    "Survival_rate.unstack().T.plot.bar()\n",
    "Survival_rate.unstack().T"
   ]
  },
  {
   "cell_type": "code",
   "execution_count": 65,
   "metadata": {},
   "outputs": [
    {
     "data": {
      "text/html": [
       "<div>\n",
       "<style>\n",
       "    .dataframe thead tr:only-child th {\n",
       "        text-align: right;\n",
       "    }\n",
       "\n",
       "    .dataframe thead th {\n",
       "        text-align: left;\n",
       "    }\n",
       "\n",
       "    .dataframe tbody tr th {\n",
       "        vertical-align: top;\n",
       "    }\n",
       "</style>\n",
       "<table border=\"1\" class=\"dataframe\">\n",
       "  <thead>\n",
       "    <tr style=\"text-align: right;\">\n",
       "      <th></th>\n",
       "      <th>PassengerId</th>\n",
       "      <th>Survived</th>\n",
       "      <th>Pclass</th>\n",
       "      <th>Age</th>\n",
       "      <th>SibSp</th>\n",
       "      <th>Parch</th>\n",
       "      <th>Fare</th>\n",
       "    </tr>\n",
       "  </thead>\n",
       "  <tbody>\n",
       "    <tr>\n",
       "      <th>PassengerId</th>\n",
       "      <td>NaN</td>\n",
       "      <td>-0.005007</td>\n",
       "      <td>-0.035144</td>\n",
       "      <td>0.036847</td>\n",
       "      <td>-0.057527</td>\n",
       "      <td>-0.001652</td>\n",
       "      <td>0.012658</td>\n",
       "    </tr>\n",
       "    <tr>\n",
       "      <th>Survived</th>\n",
       "      <td>-0.005007</td>\n",
       "      <td>NaN</td>\n",
       "      <td>-0.338481</td>\n",
       "      <td>-0.077221</td>\n",
       "      <td>-0.035322</td>\n",
       "      <td>0.081629</td>\n",
       "      <td>0.257307</td>\n",
       "    </tr>\n",
       "    <tr>\n",
       "      <th>Pclass</th>\n",
       "      <td>-0.035144</td>\n",
       "      <td>-0.338481</td>\n",
       "      <td>NaN</td>\n",
       "      <td>-0.369226</td>\n",
       "      <td>0.083081</td>\n",
       "      <td>0.018443</td>\n",
       "      <td>-0.549500</td>\n",
       "    </tr>\n",
       "    <tr>\n",
       "      <th>Age</th>\n",
       "      <td>0.036847</td>\n",
       "      <td>-0.077221</td>\n",
       "      <td>-0.369226</td>\n",
       "      <td>NaN</td>\n",
       "      <td>-0.308247</td>\n",
       "      <td>-0.189119</td>\n",
       "      <td>0.096067</td>\n",
       "    </tr>\n",
       "    <tr>\n",
       "      <th>SibSp</th>\n",
       "      <td>-0.057527</td>\n",
       "      <td>-0.035322</td>\n",
       "      <td>0.083081</td>\n",
       "      <td>-0.308247</td>\n",
       "      <td>NaN</td>\n",
       "      <td>0.414838</td>\n",
       "      <td>0.159651</td>\n",
       "    </tr>\n",
       "    <tr>\n",
       "      <th>Parch</th>\n",
       "      <td>-0.001652</td>\n",
       "      <td>0.081629</td>\n",
       "      <td>0.018443</td>\n",
       "      <td>-0.189119</td>\n",
       "      <td>0.414838</td>\n",
       "      <td>NaN</td>\n",
       "      <td>0.216225</td>\n",
       "    </tr>\n",
       "    <tr>\n",
       "      <th>Fare</th>\n",
       "      <td>0.012658</td>\n",
       "      <td>0.257307</td>\n",
       "      <td>-0.549500</td>\n",
       "      <td>0.096067</td>\n",
       "      <td>0.159651</td>\n",
       "      <td>0.216225</td>\n",
       "      <td>NaN</td>\n",
       "    </tr>\n",
       "  </tbody>\n",
       "</table>\n",
       "</div>"
      ],
      "text/plain": [
       "             PassengerId  Survived    Pclass       Age     SibSp     Parch  \\\n",
       "PassengerId          NaN -0.005007 -0.035144  0.036847 -0.057527 -0.001652   \n",
       "Survived       -0.005007       NaN -0.338481 -0.077221 -0.035322  0.081629   \n",
       "Pclass         -0.035144 -0.338481       NaN -0.369226  0.083081  0.018443   \n",
       "Age             0.036847 -0.077221 -0.369226       NaN -0.308247 -0.189119   \n",
       "SibSp          -0.057527 -0.035322  0.083081 -0.308247       NaN  0.414838   \n",
       "Parch          -0.001652  0.081629  0.018443 -0.189119  0.414838       NaN   \n",
       "Fare            0.012658  0.257307 -0.549500  0.096067  0.159651  0.216225   \n",
       "\n",
       "                 Fare  \n",
       "PassengerId  0.012658  \n",
       "Survived     0.257307  \n",
       "Pclass      -0.549500  \n",
       "Age          0.096067  \n",
       "SibSp        0.159651  \n",
       "Parch        0.216225  \n",
       "Fare              NaN  "
      ]
     },
     "execution_count": 65,
     "metadata": {},
     "output_type": "execute_result"
    }
   ],
   "source": [
    "corr = df.corr()\n",
    "corr[corr<1]"
   ]
  },
  {
   "cell_type": "code",
   "execution_count": 63,
   "metadata": {},
   "outputs": [
    {
     "data": {
      "text/plain": [
       "<matplotlib.colorbar.Colorbar at 0x1189be748>"
      ]
     },
     "execution_count": 63,
     "metadata": {},
     "output_type": "execute_result"
    },
    {
     "data": {
      "image/png": "[encoded data removed]",
      "text/plain": [
       "<matplotlib.figure.Figure at 0x118e22b00>"
      ]
     },
     "metadata": {},
     "output_type": "display_data"
    }
   ],
   "source": [
    "corr = df.corr().values\n",
    "corr[corr==1] = np.nan\n",
    "# Is there a correlation?\n",
    "fig, ax = plt.subplots()\n",
    "im = ax.imshow(corr)\n",
    "fig.colorbar(im)"
   ]
  },
  {
   "cell_type": "code",
   "execution_count": 66,
   "metadata": {
    "slideshow": {
     "slide_type": "slide"
    }
   },
   "outputs": [
    {
     "data": {
      "text/html": [
       "<div>\n",
       "<style>\n",
       "    .dataframe thead tr:only-child th {\n",
       "        text-align: right;\n",
       "    }\n",
       "\n",
       "    .dataframe thead th {\n",
       "        text-align: left;\n",
       "    }\n",
       "\n",
       "    .dataframe tbody tr th {\n",
       "        vertical-align: top;\n",
       "    }\n",
       "</style>\n",
       "<table border=\"1\" class=\"dataframe\">\n",
       "  <thead>\n",
       "    <tr style=\"text-align: right;\">\n",
       "      <th></th>\n",
       "      <th></th>\n",
       "      <th>Survived</th>\n",
       "      <th>Fare</th>\n",
       "      <th>Age</th>\n",
       "    </tr>\n",
       "    <tr>\n",
       "      <th>Pclass</th>\n",
       "      <th>Sex</th>\n",
       "      <th></th>\n",
       "      <th></th>\n",
       "      <th></th>\n",
       "    </tr>\n",
       "  </thead>\n",
       "  <tbody>\n",
       "    <tr>\n",
       "      <th rowspan=\"2\" valign=\"top\">1</th>\n",
       "      <th>female</th>\n",
       "      <td>91</td>\n",
       "      <td>106.125798</td>\n",
       "      <td>35.0</td>\n",
       "    </tr>\n",
       "    <tr>\n",
       "      <th>male</th>\n",
       "      <td>45</td>\n",
       "      <td>67.226127</td>\n",
       "      <td>40.0</td>\n",
       "    </tr>\n",
       "    <tr>\n",
       "      <th rowspan=\"2\" valign=\"top\">2</th>\n",
       "      <th>female</th>\n",
       "      <td>70</td>\n",
       "      <td>21.970121</td>\n",
       "      <td>28.0</td>\n",
       "    </tr>\n",
       "    <tr>\n",
       "      <th>male</th>\n",
       "      <td>17</td>\n",
       "      <td>19.741782</td>\n",
       "      <td>30.0</td>\n",
       "    </tr>\n",
       "    <tr>\n",
       "      <th rowspan=\"2\" valign=\"top\">3</th>\n",
       "      <th>female</th>\n",
       "      <td>72</td>\n",
       "      <td>16.118810</td>\n",
       "      <td>21.5</td>\n",
       "    </tr>\n",
       "    <tr>\n",
       "      <th>male</th>\n",
       "      <td>47</td>\n",
       "      <td>12.661633</td>\n",
       "      <td>25.0</td>\n",
       "    </tr>\n",
       "  </tbody>\n",
       "</table>\n",
       "</div>"
      ],
      "text/plain": [
       "               Survived        Fare   Age\n",
       "Pclass Sex                               \n",
       "1      female        91  106.125798  35.0\n",
       "       male          45   67.226127  40.0\n",
       "2      female        70   21.970121  28.0\n",
       "       male          17   19.741782  30.0\n",
       "3      female        72   16.118810  21.5\n",
       "       male          47   12.661633  25.0"
      ]
     },
     "execution_count": 66,
     "metadata": {},
     "output_type": "execute_result"
    }
   ],
   "source": [
    "#What if we want to apply different aggregations to different columns?\n",
    "#{'key':value} is a Python data structure called a dictionary\n",
    "df.groupby(['Pclass', 'Sex']).agg( {'Survived': np.sum, \n",
    "                                    'Fare': np.mean, \n",
    "                                    'Age': np.median})"
   ]
  },
  {
   "cell_type": "code",
   "execution_count": 83,
   "metadata": {},
   "outputs": [],
   "source": [
    "df['Fareq'] = pd.qcut(df['Fare'], 10)"
   ]
  },
  {
   "cell_type": "markdown",
   "metadata": {
    "slideshow": {
     "slide_type": "slide"
    }
   },
   "source": [
    "Challenge\n",
    "=====\n",
    "* Compute a cross tabulation using a different variable in the dataset\n",
    "* Plot a chart that illustrates your findings\n",
    "* If possible, compute the correlation between survival and that variable"
   ]
  },
  {
   "cell_type": "code",
   "execution_count": 74,
   "metadata": {
    "slideshow": {
     "slide_type": "slide"
    }
   },
   "outputs": [
    {
     "data": {
      "text/html": [
       "<div>\n",
       "<style>\n",
       "    .dataframe thead tr:only-child th {\n",
       "        text-align: right;\n",
       "    }\n",
       "\n",
       "    .dataframe thead th {\n",
       "        text-align: left;\n",
       "    }\n",
       "\n",
       "    .dataframe tbody tr th {\n",
       "        vertical-align: top;\n",
       "    }\n",
       "</style>\n",
       "<table border=\"1\" class=\"dataframe\">\n",
       "  <thead>\n",
       "    <tr style=\"text-align: right;\">\n",
       "      <th></th>\n",
       "      <th>Family</th>\n",
       "      <th>Parch</th>\n",
       "      <th>SibSp</th>\n",
       "    </tr>\n",
       "  </thead>\n",
       "  <tbody>\n",
       "    <tr>\n",
       "      <th>0</th>\n",
       "      <td>1</td>\n",
       "      <td>0</td>\n",
       "      <td>1</td>\n",
       "    </tr>\n",
       "    <tr>\n",
       "      <th>1</th>\n",
       "      <td>1</td>\n",
       "      <td>0</td>\n",
       "      <td>1</td>\n",
       "    </tr>\n",
       "    <tr>\n",
       "      <th>2</th>\n",
       "      <td>0</td>\n",
       "      <td>0</td>\n",
       "      <td>0</td>\n",
       "    </tr>\n",
       "    <tr>\n",
       "      <th>3</th>\n",
       "      <td>1</td>\n",
       "      <td>0</td>\n",
       "      <td>1</td>\n",
       "    </tr>\n",
       "    <tr>\n",
       "      <th>4</th>\n",
       "      <td>0</td>\n",
       "      <td>0</td>\n",
       "      <td>0</td>\n",
       "    </tr>\n",
       "  </tbody>\n",
       "</table>\n",
       "</div>"
      ],
      "text/plain": [
       "   Family  Parch  SibSp\n",
       "0       1      0      1\n",
       "1       1      0      1\n",
       "2       0      0      0\n",
       "3       1      0      1\n",
       "4       0      0      0"
      ]
     },
     "execution_count": 74,
     "metadata": {},
     "output_type": "execute_result"
    }
   ],
   "source": [
    "df['Family'] = df['SibSp'] + df['Parch']\n",
    "df[['Family', 'Parch', 'SibSp']].head()"
   ]
  },
  {
   "cell_type": "markdown",
   "metadata": {
    "slideshow": {
     "slide_type": "subslide"
    }
   },
   "source": [
    "![mult](figs/multivariate.png)"
   ]
  },
  {
   "cell_type": "markdown",
   "metadata": {
    "slideshow": {
     "slide_type": "slide"
    }
   },
   "source": [
    "![ml](figs/ml_map.png)"
   ]
  },
  {
   "cell_type": "markdown",
   "metadata": {
    "slideshow": {
     "slide_type": "slide"
    }
   },
   "source": [
    "# Where do we start? axis notation \n",
    "![axis](figs/axis.jpg)\n",
    "source: [stackoverflow](http://stackoverflow.com/questions/25773245/ambiguity-in-pandas-dataframe-numpy-array-axis-definition)"
   ]
  },
  {
   "cell_type": "code",
   "execution_count": 84,
   "metadata": {
    "slideshow": {
     "slide_type": "slide"
    }
   },
   "outputs": [
    {
     "name": "stdout",
     "output_type": "stream",
     "text": [
      "<class 'pandas.core.frame.DataFrame'>\n",
      "RangeIndex: 891 entries, 0 to 890\n",
      "Data columns (total 10 columns):\n",
      "Pclass      891 non-null int64\n",
      "Sex         891 non-null object\n",
      "Age         714 non-null float64\n",
      "SibSp       891 non-null int64\n",
      "Parch       891 non-null int64\n",
      "Fare        891 non-null float64\n",
      "Cabin       204 non-null object\n",
      "Embarked    889 non-null object\n",
      "Family      891 non-null int64\n",
      "Fareq       891 non-null category\n",
      "dtypes: category(1), float64(2), int64(4), object(3)\n",
      "memory usage: 63.8+ KB\n"
     ]
    }
   ],
   "source": [
    "# names and ticket #s are too complicated and passengerID has no meaning\n",
    "# drop survived since to an extent that's what we're trying to uncover\n",
    "# axis = 1 means that these are columns\n",
    "df_filtered = df.drop([\"Name\", \"Ticket\", \"PassengerId\", \"Survived\"], \n",
    "                      axis=1)\n",
    "#Now what's missing?\n",
    "df_filtered.info()"
   ]
  },
  {
   "cell_type": "code",
   "execution_count": 85,
   "metadata": {
    "slideshow": {
     "slide_type": "slide"
    }
   },
   "outputs": [
    {
     "name": "stdout",
     "output_type": "stream",
     "text": [
      "<class 'pandas.core.frame.DataFrame'>\n",
      "RangeIndex: 891 entries, 0 to 890\n",
      "Data columns (total 9 columns):\n",
      "Pclass      891 non-null int64\n",
      "Sex         891 non-null object\n",
      "Age         714 non-null float64\n",
      "SibSp       891 non-null int64\n",
      "Parch       891 non-null int64\n",
      "Fare        891 non-null float64\n",
      "Embarked    889 non-null object\n",
      "Family      891 non-null int64\n",
      "Fareq       891 non-null category\n",
      "dtypes: category(1), float64(2), int64(4), object(2)\n",
      "memory usage: 56.8+ KB\n"
     ]
    }
   ],
   "source": [
    "#We're missing so much cabin data that it makes sense to drop it as a first pass\n",
    "df_c = df_filtered.drop([\"Cabin\"], axis=1)\n",
    "df_c.info()"
   ]
  },
  {
   "cell_type": "markdown",
   "metadata": {
    "slideshow": {
     "slide_type": "slide"
    }
   },
   "source": [
    "How do we find the ~170 missing rows? Fancy Indexing\n",
    "==========================\n",
    "![masking](figs/masking.png)\n",
    "\n",
    "modified from [software carpentry](http://v4.software-carpentry.org/matrix/indexing.html)\n"
   ]
  },
  {
   "cell_type": "code",
   "execution_count": 86,
   "metadata": {},
   "outputs": [
    {
     "name": "stdout",
     "output_type": "stream",
     "text": [
      "179 missing rows\n"
     ]
    }
   ],
   "source": [
    "#isnull - is any cell missing a value? \n",
    "#any(axis=1) - which rows have at least 1 missing value?\n",
    "bad_rows = df_c.isnull().any(axis=1)\n",
    "#true = 1, false = 0, so sum() gives total # true\n",
    "print(bad_rows.sum(), \"missing rows\")"
   ]
  },
  {
   "cell_type": "code",
   "execution_count": 87,
   "metadata": {
    "slideshow": {
     "slide_type": "slide"
    }
   },
   "outputs": [
    {
     "name": "stdout",
     "output_type": "stream",
     "text": [
      "<class 'pandas.core.frame.DataFrame'>\n",
      "Int64Index: 712 entries, 0 to 890\n",
      "Data columns (total 9 columns):\n",
      "Pclass      712 non-null int64\n",
      "Sex         712 non-null object\n",
      "Age         712 non-null float64\n",
      "SibSp       712 non-null int64\n",
      "Parch       712 non-null int64\n",
      "Fare        712 non-null float64\n",
      "Embarked    712 non-null object\n",
      "Family      712 non-null int64\n",
      "Fareq       712 non-null category\n",
      "dtypes: category(1), float64(2), int64(4), object(2)\n",
      "memory usage: 50.9+ KB\n"
     ]
    }
   ],
   "source": [
    "#~ means not, so ~bad_rows => good rows\n",
    "df_clean = df_c[~bad_rows]\n",
    "survived = df['Survived'][~bad_rows]\n",
    "\n",
    "#What state is our data in now?\n",
    "df_clean.info()"
   ]
  },
  {
   "cell_type": "markdown",
   "metadata": {
    "slideshow": {
     "slide_type": "slide"
    }
   },
   "source": [
    "# How do we deal with catagories and text? One-Hot Coding\n",
    "![one-hot](figs/word2vec-one-hot.png)\n",
    "source: [Amazing Power of Word Vectors](http://www.kdnuggets.com/2016/05/amazing-power-word-vectors.html)"
   ]
  },
  {
   "cell_type": "code",
   "execution_count": 88,
   "metadata": {
    "slideshow": {
     "slide_type": "slide"
    }
   },
   "outputs": [
    {
     "data": {
      "text/html": [
       "<div>\n",
       "<style>\n",
       "    .dataframe thead tr:only-child th {\n",
       "        text-align: right;\n",
       "    }\n",
       "\n",
       "    .dataframe thead th {\n",
       "        text-align: left;\n",
       "    }\n",
       "\n",
       "    .dataframe tbody tr th {\n",
       "        vertical-align: top;\n",
       "    }\n",
       "</style>\n",
       "<table border=\"1\" class=\"dataframe\">\n",
       "  <thead>\n",
       "    <tr style=\"text-align: right;\">\n",
       "      <th></th>\n",
       "      <th>Age</th>\n",
       "      <th>SibSp</th>\n",
       "      <th>Parch</th>\n",
       "      <th>Fare</th>\n",
       "      <th>Family</th>\n",
       "      <th>Fareq</th>\n",
       "      <th>Pclass_1</th>\n",
       "      <th>Pclass_2</th>\n",
       "      <th>Pclass_3</th>\n",
       "      <th>Sex_female</th>\n",
       "      <th>Sex_male</th>\n",
       "      <th>Embarked_C</th>\n",
       "      <th>Embarked_Q</th>\n",
       "      <th>Embarked_S</th>\n",
       "    </tr>\n",
       "  </thead>\n",
       "  <tbody>\n",
       "    <tr>\n",
       "      <th>0</th>\n",
       "      <td>22.0</td>\n",
       "      <td>1</td>\n",
       "      <td>0</td>\n",
       "      <td>7.2500</td>\n",
       "      <td>1</td>\n",
       "      <td>(-0.001, 7.55]</td>\n",
       "      <td>0</td>\n",
       "      <td>0</td>\n",
       "      <td>1</td>\n",
       "      <td>0</td>\n",
       "      <td>1</td>\n",
       "      <td>0</td>\n",
       "      <td>0</td>\n",
       "      <td>1</td>\n",
       "    </tr>\n",
       "    <tr>\n",
       "      <th>1</th>\n",
       "      <td>38.0</td>\n",
       "      <td>1</td>\n",
       "      <td>0</td>\n",
       "      <td>71.2833</td>\n",
       "      <td>1</td>\n",
       "      <td>(39.688, 77.958]</td>\n",
       "      <td>1</td>\n",
       "      <td>0</td>\n",
       "      <td>0</td>\n",
       "      <td>1</td>\n",
       "      <td>0</td>\n",
       "      <td>1</td>\n",
       "      <td>0</td>\n",
       "      <td>0</td>\n",
       "    </tr>\n",
       "    <tr>\n",
       "      <th>2</th>\n",
       "      <td>26.0</td>\n",
       "      <td>0</td>\n",
       "      <td>0</td>\n",
       "      <td>7.9250</td>\n",
       "      <td>0</td>\n",
       "      <td>(7.854, 8.05]</td>\n",
       "      <td>0</td>\n",
       "      <td>0</td>\n",
       "      <td>1</td>\n",
       "      <td>1</td>\n",
       "      <td>0</td>\n",
       "      <td>0</td>\n",
       "      <td>0</td>\n",
       "      <td>1</td>\n",
       "    </tr>\n",
       "    <tr>\n",
       "      <th>3</th>\n",
       "      <td>35.0</td>\n",
       "      <td>1</td>\n",
       "      <td>0</td>\n",
       "      <td>53.1000</td>\n",
       "      <td>1</td>\n",
       "      <td>(39.688, 77.958]</td>\n",
       "      <td>1</td>\n",
       "      <td>0</td>\n",
       "      <td>0</td>\n",
       "      <td>1</td>\n",
       "      <td>0</td>\n",
       "      <td>0</td>\n",
       "      <td>0</td>\n",
       "      <td>1</td>\n",
       "    </tr>\n",
       "    <tr>\n",
       "      <th>4</th>\n",
       "      <td>35.0</td>\n",
       "      <td>0</td>\n",
       "      <td>0</td>\n",
       "      <td>8.0500</td>\n",
       "      <td>0</td>\n",
       "      <td>(7.854, 8.05]</td>\n",
       "      <td>0</td>\n",
       "      <td>0</td>\n",
       "      <td>1</td>\n",
       "      <td>0</td>\n",
       "      <td>1</td>\n",
       "      <td>0</td>\n",
       "      <td>0</td>\n",
       "      <td>1</td>\n",
       "    </tr>\n",
       "  </tbody>\n",
       "</table>\n",
       "</div>"
      ],
      "text/plain": [
       "    Age  SibSp  Parch     Fare  Family             Fareq  Pclass_1  Pclass_2  \\\n",
       "0  22.0      1      0   7.2500       1    (-0.001, 7.55]         0         0   \n",
       "1  38.0      1      0  71.2833       1  (39.688, 77.958]         1         0   \n",
       "2  26.0      0      0   7.9250       0     (7.854, 8.05]         0         0   \n",
       "3  35.0      1      0  53.1000       1  (39.688, 77.958]         1         0   \n",
       "4  35.0      0      0   8.0500       0     (7.854, 8.05]         0         0   \n",
       "\n",
       "   Pclass_3  Sex_female  Sex_male  Embarked_C  Embarked_Q  Embarked_S  \n",
       "0         1           0         1           0           0           1  \n",
       "1         0           1         0           1           0           0  \n",
       "2         1           1         0           0           0           1  \n",
       "3         0           1         0           0           0           1  \n",
       "4         1           0         1           0           0           1  "
      ]
     },
     "execution_count": 88,
     "metadata": {},
     "output_type": "execute_result"
    }
   ],
   "source": [
    "#Let's one-hot code Pclass, Sex, & Embarked\n",
    "#http://pandas.pydata.org/pandas-docs/stable/generated/pandas.get_dummies.html\n",
    "df_coded = pd.get_dummies(df_clean, \n",
    "                          columns=[\"Pclass\", \"Sex\", \"Embarked\"])\n",
    "df_coded.head()"
   ]
  },
  {
   "cell_type": "code",
   "execution_count": 89,
   "metadata": {
    "slideshow": {
     "slide_type": "slide"
    }
   },
   "outputs": [
    {
     "data": {
      "image/png": "[encoded data removed]",
      "text/plain": [
       "<matplotlib.figure.Figure at 0x1191b5908>"
      ]
     },
     "metadata": {},
     "output_type": "display_data"
    }
   ],
   "source": [
    "df_coded['Fare'].plot()\n",
    "df_coded['Age'].plot()\n",
    "plt.show() #removes matplotlib text under graph"
   ]
  },
  {
   "cell_type": "code",
   "execution_count": 90,
   "metadata": {
    "collapsed": true,
    "scrolled": false,
    "slideshow": {
     "slide_type": "slide"
    }
   },
   "outputs": [],
   "source": [
    "# need to put continuous numerical values on comparable scale (normalize them)\n",
    "def zscore(x):\n",
    "    return ((x - x.mean())/x.std()) \n",
    "\n",
    "df_coded['AgeN'] = zscore(df_coded['Age'].values)\n",
    "df_coded['FareN'] = zscore(df_coded['Fare'].values)\n"
   ]
  },
  {
   "cell_type": "code",
   "execution_count": 91,
   "metadata": {
    "slideshow": {
     "slide_type": "slide"
    }
   },
   "outputs": [
    {
     "data": {
      "image/png": "[encoded data removed]",
      "text/plain": [
       "<matplotlib.figure.Figure at 0x118f9dac8>"
      ]
     },
     "metadata": {},
     "output_type": "display_data"
    }
   ],
   "source": [
    "df_coded['FareN'].plot()\n",
    "df_coded['AgeN'].plot()\n",
    "plt.show()"
   ]
  },
  {
   "cell_type": "code",
   "execution_count": 92,
   "metadata": {
    "slideshow": {
     "slide_type": "slide"
    }
   },
   "outputs": [
    {
     "data": {
      "image/png": "[encoded data removed]",
      "text/plain": [
       "<matplotlib.figure.Figure at 0x1185954a8>"
      ]
     },
     "metadata": {},
     "output_type": "display_data"
    }
   ],
   "source": [
    "# What's the distribution of these?\n",
    "\n",
    "fig, (ax1, ax2) = plt.subplots(nrows=2)\n",
    "df_coded[['AgeN','FareN']].hist(ax = (ax1, ax2))\n",
    "plt.show()"
   ]
  },
  {
   "cell_type": "code",
   "execution_count": 94,
   "metadata": {
    "slideshow": {
     "slide_type": "slide"
    }
   },
   "outputs": [
    {
     "data": {
      "text/html": [
       "<div>\n",
       "<style>\n",
       "    .dataframe thead tr:only-child th {\n",
       "        text-align: right;\n",
       "    }\n",
       "\n",
       "    .dataframe thead th {\n",
       "        text-align: left;\n",
       "    }\n",
       "\n",
       "    .dataframe tbody tr th {\n",
       "        vertical-align: top;\n",
       "    }\n",
       "</style>\n",
       "<table border=\"1\" class=\"dataframe\">\n",
       "  <thead>\n",
       "    <tr style=\"text-align: right;\">\n",
       "      <th></th>\n",
       "      <th>SibSp</th>\n",
       "      <th>Parch</th>\n",
       "      <th>Family</th>\n",
       "      <th>Fareq</th>\n",
       "      <th>Pclass_1</th>\n",
       "      <th>Pclass_2</th>\n",
       "      <th>Pclass_3</th>\n",
       "      <th>Sex_female</th>\n",
       "      <th>Sex_male</th>\n",
       "      <th>Embarked_C</th>\n",
       "      <th>Embarked_Q</th>\n",
       "      <th>Embarked_S</th>\n",
       "      <th>AgeN</th>\n",
       "      <th>FareN</th>\n",
       "    </tr>\n",
       "  </thead>\n",
       "  <tbody>\n",
       "    <tr>\n",
       "      <th>0</th>\n",
       "      <td>1</td>\n",
       "      <td>0</td>\n",
       "      <td>1</td>\n",
       "      <td>(-0.001, 7.55]</td>\n",
       "      <td>0</td>\n",
       "      <td>0</td>\n",
       "      <td>1</td>\n",
       "      <td>0</td>\n",
       "      <td>1</td>\n",
       "      <td>0</td>\n",
       "      <td>0</td>\n",
       "      <td>1</td>\n",
       "      <td>-0.527669</td>\n",
       "      <td>-0.516380</td>\n",
       "    </tr>\n",
       "    <tr>\n",
       "      <th>1</th>\n",
       "      <td>1</td>\n",
       "      <td>0</td>\n",
       "      <td>1</td>\n",
       "      <td>(39.688, 77.958]</td>\n",
       "      <td>1</td>\n",
       "      <td>0</td>\n",
       "      <td>0</td>\n",
       "      <td>1</td>\n",
       "      <td>0</td>\n",
       "      <td>1</td>\n",
       "      <td>0</td>\n",
       "      <td>0</td>\n",
       "      <td>0.577094</td>\n",
       "      <td>0.694046</td>\n",
       "    </tr>\n",
       "    <tr>\n",
       "      <th>2</th>\n",
       "      <td>0</td>\n",
       "      <td>0</td>\n",
       "      <td>0</td>\n",
       "      <td>(7.854, 8.05]</td>\n",
       "      <td>0</td>\n",
       "      <td>0</td>\n",
       "      <td>1</td>\n",
       "      <td>1</td>\n",
       "      <td>0</td>\n",
       "      <td>0</td>\n",
       "      <td>0</td>\n",
       "      <td>1</td>\n",
       "      <td>-0.251478</td>\n",
       "      <td>-0.503620</td>\n",
       "    </tr>\n",
       "    <tr>\n",
       "      <th>3</th>\n",
       "      <td>1</td>\n",
       "      <td>0</td>\n",
       "      <td>1</td>\n",
       "      <td>(39.688, 77.958]</td>\n",
       "      <td>1</td>\n",
       "      <td>0</td>\n",
       "      <td>0</td>\n",
       "      <td>1</td>\n",
       "      <td>0</td>\n",
       "      <td>0</td>\n",
       "      <td>0</td>\n",
       "      <td>1</td>\n",
       "      <td>0.369951</td>\n",
       "      <td>0.350326</td>\n",
       "    </tr>\n",
       "    <tr>\n",
       "      <th>4</th>\n",
       "      <td>0</td>\n",
       "      <td>0</td>\n",
       "      <td>0</td>\n",
       "      <td>(7.854, 8.05]</td>\n",
       "      <td>0</td>\n",
       "      <td>0</td>\n",
       "      <td>1</td>\n",
       "      <td>0</td>\n",
       "      <td>1</td>\n",
       "      <td>0</td>\n",
       "      <td>0</td>\n",
       "      <td>1</td>\n",
       "      <td>0.369951</td>\n",
       "      <td>-0.501257</td>\n",
       "    </tr>\n",
       "  </tbody>\n",
       "</table>\n",
       "</div>"
      ],
      "text/plain": [
       "   SibSp  Parch  Family             Fareq  Pclass_1  Pclass_2  Pclass_3  \\\n",
       "0      1      0       1    (-0.001, 7.55]         0         0         1   \n",
       "1      1      0       1  (39.688, 77.958]         1         0         0   \n",
       "2      0      0       0     (7.854, 8.05]         0         0         1   \n",
       "3      1      0       1  (39.688, 77.958]         1         0         0   \n",
       "4      0      0       0     (7.854, 8.05]         0         0         1   \n",
       "\n",
       "   Sex_female  Sex_male  Embarked_C  Embarked_Q  Embarked_S      AgeN  \\\n",
       "0           0         1           0           0           1 -0.527669   \n",
       "1           1         0           1           0           0  0.577094   \n",
       "2           1         0           0           0           1 -0.251478   \n",
       "3           1         0           0           0           1  0.369951   \n",
       "4           0         1           0           0           1  0.369951   \n",
       "\n",
       "      FareN  \n",
       "0 -0.516380  \n",
       "1  0.694046  \n",
       "2 -0.503620  \n",
       "3  0.350326  \n",
       "4 -0.501257  "
      ]
     },
     "execution_count": 94,
     "metadata": {},
     "output_type": "execute_result"
    }
   ],
   "source": [
    "#now it's a feature vector as far as our algs are concerned\n",
    "dfFV = df_coded.drop([\"Age\", \"Fare\"], axis=1)\n",
    "dfFV.head()"
   ]
  },
  {
   "cell_type": "code",
   "execution_count": 95,
   "metadata": {
    "collapsed": true,
    "slideshow": {
     "slide_type": "slide"
    }
   },
   "outputs": [],
   "source": [
    "#let's save this cleaned dataset\n",
    "dfFV.to_csv(\"titanic_FV.csv\", index=False)\n",
    "#and let's save out the survived column of the \n",
    "survived.to_csv(\"survived.csv\", index=False)"
   ]
  },
  {
   "cell_type": "code",
   "execution_count": 96,
   "metadata": {},
   "outputs": [
    {
     "name": "stdout",
     "output_type": "stream",
     "text": [
      "Jan2017.ipynb         cat_ts_2.ipynb        jan2018_stats2.ipynb\r\n",
      "Jan2018_ml.ipynb      \u001b[34mdata\u001b[m\u001b[m/                 survived.csv\r\n",
      "Jan2018_stats.ipynb   dim_fig.ipynb         \u001b[31mtitanic.ipynb\u001b[m\u001b[m*\r\n",
      "README.md             \u001b[34mfigs\u001b[m\u001b[m/                 titanic_FV.csv\r\n",
      "cat_ts_1.ipynb        grad.ipynb\r\n"
     ]
    }
   ],
   "source": [
    "ls "
   ]
  },
  {
   "cell_type": "code",
   "execution_count": null,
   "metadata": {
    "collapsed": true
   },
   "outputs": [],
   "source": []
  }
 ],
 "metadata": {
  "celltoolbar": "Slideshow",
  "kernelspec": {
   "display_name": "Python 3",
   "language": "python",
   "name": "python3"
  },
  "language_info": {
   "codemirror_mode": {
    "name": "ipython",
    "version": 3
   },
   "file_extension": ".py",
   "mimetype": "text/x-python",
   "name": "python",
   "nbconvert_exporter": "python",
   "pygments_lexer": "ipython3",
   "version": "3.6.3"
  }
 },
 "nbformat": 4,
 "nbformat_minor": 1
}
