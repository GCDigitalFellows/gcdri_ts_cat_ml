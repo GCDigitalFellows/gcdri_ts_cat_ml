{
 "cells": [
  {
   "cell_type": "markdown",
   "metadata": {
    "slideshow": {
     "slide_type": "slide"
    }
   },
   "source": [
    "# http://bit.ly/dri18-ml"
   ]
  },
  {
   "cell_type": "markdown",
   "metadata": {
    "slideshow": {
     "slide_type": "slide"
    }
   },
   "source": [
    "# Before Lunch?\n",
    " * Open, filter, and search spreadsheets\n",
    " * Compute & plot descriptive statistics\n",
    " * Generate cross tabulations (group by/pivot table)\n",
    " * Remove missing and invalid data\n",
    " * Numerically encode and Z-score normalize variables\n",
    " * Reduce data dimensions using Principal Component Analysis\n",
    " * Cluster and classifiy data using nearest neighbor approaches \n",
    " * Evaluate algorithm's accuracy and compute confusion matrix\n",
    " "
   ]
  },
  {
   "cell_type": "markdown",
   "metadata": {
    "slideshow": {
     "slide_type": "slide"
    }
   },
   "source": [
    "![Titanic](figs/RMS_titanic_3.jpg)"
   ]
  },
  {
   "cell_type": "markdown",
   "metadata": {
    "slideshow": {
     "slide_type": "slide"
    }
   },
   "source": [
    "# [Kaggle Titanic Data](https://www.kaggle.com/c/titanic/data)"
   ]
  },
  {
   "cell_type": "markdown",
   "metadata": {
    "slideshow": {
     "slide_type": "slide"
    }
   },
   "source": [
    "VARIABLE DESCRIPTIONS\n",
    "=====================\n",
    "```\n",
    "survival: Survival (0 = No; 1 = Yes)|\n",
    "pclass: Passenger Class (1 = 1st; 2 = 2nd; 3 = 3rd)\n",
    "name: Name\n",
    "sex: Sex\n",
    "age: Age\n",
    "```"
   ]
  },
  {
   "cell_type": "markdown",
   "metadata": {
    "slideshow": {
     "slide_type": "slide"
    }
   },
   "source": [
    "VARIABLE DESCRIPTIONS\n",
    "=====================\n",
    "```\n",
    "sibsp: Number of Siblings/Spouses Aboard\n",
    "parch: Number of Parents/Children Aboard\n",
    "ticket: Ticket Number\n",
    "fare: Passenger Fare\n",
    "cabin: Cabin\n",
    "embarked: Port of Embarkation \n",
    "    (C = Cherbourg; Q = Queenstown; S = Southampton)\n",
    "```"
   ]
  },
  {
   "cell_type": "markdown",
   "metadata": {
    "slideshow": {
     "slide_type": "subslide"
    }
   },
   "source": [
    "SPECIAL NOTES\n",
    "==============\n",
    "```\n",
    "Pclass is a proxy for socio-economic status (SES)\n",
    " 1st ~ Upper; 2nd ~ Middle; 3rd ~ Lower\n",
    "\n",
    "Age is in Years; Fractional if Age less than One (1)\n",
    " If the Age is Estimated, it is in the form xx.5\n",
    "```"
   ]
  },
  {
   "cell_type": "markdown",
   "metadata": {
    "slideshow": {
     "slide_type": "subslide"
    }
   },
   "source": [
    "Family Notes\n",
    "============\n",
    "```\n",
    "With respect to the family relation variables (i.e. sibsp and parch)\n",
    "some relations were ignored.  The following are the definitions used\n",
    "for sibsp and parch.\n",
    "\n",
    "Sibling:  Brother, Sister, Stepbrother, or Stepsister of Passenger Aboard Titanic\n",
    "Spouse:   Husband or Wife of Passenger Aboard Titanic (Mistresses and Fiances Ignored)\n",
    "Parent:   Mother or Father of Passenger Aboard Titanic\n",
    "Child:    Son, Daughter, Stepson, or Stepdaughter of Passenger Aboard Titanic\n",
    "\n",
    "Other family relatives excluded from this study include cousins,\n",
    "nephews/nieces, aunts/uncles, and in-laws.  Some children travelled\n",
    "only with a nanny, therefore parch=0 for them.  As well, some\n",
    "travelled with very close friends or neighbors in a village, however,\n",
    "the definitions do not support such relations.\n",
    "```\n"
   ]
  },
  {
   "cell_type": "code",
   "execution_count": null,
   "metadata": {
    "scrolled": false
   },
   "outputs": [],
   "source": [
    "import pandas as pd\n",
    "print(f'pandas: {pd.__version__}')\n",
    "\n",
    "import numpy as np\n",
    "print(f'numpy: {np.__version__}')\n",
    "\n",
    "import matplotlib\n",
    "import matplotlib.pyplot as plt\n",
    "print(f'matplotlib: {matplotlib.__version__}')"
   ]
  },
  {
   "cell_type": "code",
   "execution_count": null,
   "metadata": {
    "slideshow": {
     "slide_type": "slide"
    }
   },
   "outputs": [],
   "source": [
    "# read csv can read from a file path or a url\n",
    "df = pd.read_csv(\"http://bit.ly/tscv17\")\n",
    "df.head(5)"
   ]
  },
  {
   "cell_type": "code",
   "execution_count": null,
   "metadata": {
    "slideshow": {
     "slide_type": "slide"
    }
   },
   "outputs": [],
   "source": [
    "#What do we have, what type is it, and what's missing?\n",
    "df.info()"
   ]
  },
  {
   "cell_type": "code",
   "execution_count": null,
   "metadata": {
    "slideshow": {
     "slide_type": "slide"
    }
   },
   "outputs": [],
   "source": [
    "#how do we take a statistical snapshot?\n",
    "df.describe()"
   ]
  },
  {
   "cell_type": "code",
   "execution_count": null,
   "metadata": {
    "collapsed": true,
    "slideshow": {
     "slide_type": "slide"
    }
   },
   "outputs": [],
   "source": [
    "# what if we also want categorical descriptions?\n",
    "df.describe?"
   ]
  },
  {
   "cell_type": "code",
   "execution_count": null,
   "metadata": {
    "slideshow": {
     "slide_type": "slide"
    }
   },
   "outputs": [],
   "source": [
    "# the docs say to use the include keyword and 'O' argument\n",
    "df.describe(include=['O'])"
   ]
  },
  {
   "cell_type": "code",
   "execution_count": null,
   "metadata": {
    "slideshow": {
     "slide_type": "slide"
    }
   },
   "outputs": [],
   "source": [
    "# How do we see how many people survived?  1=Survived\n",
    "df['Survived'].value_counts()"
   ]
  },
  {
   "cell_type": "code",
   "execution_count": null,
   "metadata": {
    "slideshow": {
     "slide_type": "slide"
    }
   },
   "outputs": [],
   "source": [
    "%matplotlib inline\n",
    "fig, ax = plt.subplots()\n",
    "df['Survived'].value_counts().plot.pie(ax=ax, \n",
    "                                       labels=[\"Deid\", \"Survived\"])\n",
    "ax.set_aspect('equal') # this makes it a circle"
   ]
  },
  {
   "cell_type": "markdown",
   "metadata": {
    "slideshow": {
     "slide_type": "slide"
    }
   },
   "source": [
    "Challenge\n",
    "=====\n",
    "* Print the value counts of another variable (example: cabin)\n",
    "* Create a pie chart for another variable"
   ]
  },
  {
   "cell_type": "code",
   "execution_count": null,
   "metadata": {
    "slideshow": {
     "slide_type": "slide"
    }
   },
   "outputs": [],
   "source": [
    "# What if we want to see how the people who survived differ from those who deid?\n",
    "df.groupby(['Survived'])"
   ]
  },
  {
   "cell_type": "code",
   "execution_count": null,
   "metadata": {
    "slideshow": {
     "slide_type": "slide"
    }
   },
   "outputs": [],
   "source": [
    "list(df.groupby(['Survived']))"
   ]
  },
  {
   "cell_type": "code",
   "execution_count": null,
   "metadata": {
    "slideshow": {
     "slide_type": "slide"
    }
   },
   "outputs": [],
   "source": [
    "# How do we get a summary of that?\n",
    "df.groupby(['Survived']).count()"
   ]
  },
  {
   "cell_type": "code",
   "execution_count": null,
   "metadata": {},
   "outputs": [],
   "source": [
    "#how do we now disaggregate the data to compute a cross tabulation?\n",
    "by_demo = df.groupby(['Sex', 'Pclass'])\n",
    "#unstack creates the table\n",
    "by_demo['Survived'].count()"
   ]
  },
  {
   "cell_type": "code",
   "execution_count": null,
   "metadata": {
    "slideshow": {
     "slide_type": "slide"
    }
   },
   "outputs": [],
   "source": [
    "# Can we put it into a table?\n",
    "by_demo['Survived'].sum().unstack() "
   ]
  },
  {
   "cell_type": "code",
   "execution_count": null,
   "metadata": {
    "slideshow": {
     "slide_type": "slide"
    }
   },
   "outputs": [],
   "source": [
    "#Let's compute a survival rate\n",
    "Survival_rate = by_demo['Survived'].sum()/by_demo['Survived'].count()\n",
    "Survival_rate"
   ]
  },
  {
   "cell_type": "code",
   "execution_count": null,
   "metadata": {
    "slideshow": {
     "slide_type": "slide"
    }
   },
   "outputs": [],
   "source": [
    "# And let's plot that\n",
    "%matplotlib inline\n",
    "Survival_rate.plot.bar()"
   ]
  },
  {
   "cell_type": "code",
   "execution_count": null,
   "metadata": {
    "slideshow": {
     "slide_type": "slide"
    }
   },
   "outputs": [],
   "source": [
    "# can we group?\n",
    "Survival_rate.unstack().plot.bar()\n",
    "Survival_rate.unstack()"
   ]
  },
  {
   "cell_type": "code",
   "execution_count": null,
   "metadata": {},
   "outputs": [],
   "source": [
    "#what about grouped by sex first?\n",
    "# can we group?\n",
    "Survival_rate.unstack().T.plot.bar()\n",
    "Survival_rate.unstack().T"
   ]
  },
  {
   "cell_type": "code",
   "execution_count": null,
   "metadata": {},
   "outputs": [],
   "source": [
    "# Is there a correlation?\n",
    "df[['Pclass','Survived']].corr()"
   ]
  },
  {
   "cell_type": "code",
   "execution_count": null,
   "metadata": {
    "slideshow": {
     "slide_type": "slide"
    }
   },
   "outputs": [],
   "source": [
    "#What if we want to apply different aggregations to different columns?\n",
    "#{'key':value} is a Python data structure called a dictionary\n",
    "df.groupby(['Pclass', 'Sex']).agg( {'Survived': np.sum, \n",
    "                                    'Fare': np.mean, \n",
    "                                    'Age': np.median})"
   ]
  },
  {
   "cell_type": "markdown",
   "metadata": {
    "slideshow": {
     "slide_type": "slide"
    }
   },
   "source": [
    "Challenge\n",
    "=====\n",
    "* Compute a cross tabulation using a different variable in the dataset\n",
    "* Plot a chart that illustrates your findings\n",
    "* If possible, compute the correlation between survival and that variable"
   ]
  },
  {
   "cell_type": "markdown",
   "metadata": {
    "slideshow": {
     "slide_type": "subslide"
    }
   },
   "source": [
    "![mult](figs/multivariate.png)"
   ]
  },
  {
   "cell_type": "markdown",
   "metadata": {
    "slideshow": {
     "slide_type": "slide"
    }
   },
   "source": [
    "![ml](figs/ml_map.png)"
   ]
  },
  {
   "cell_type": "markdown",
   "metadata": {
    "slideshow": {
     "slide_type": "slide"
    }
   },
   "source": [
    "# Where do we start? axis notation \n",
    "![axis](figs/axis.jpg)\n",
    "source: [stackoverflow](http://stackoverflow.com/questions/25773245/ambiguity-in-pandas-dataframe-numpy-array-axis-definition)"
   ]
  },
  {
   "cell_type": "code",
   "execution_count": null,
   "metadata": {
    "slideshow": {
     "slide_type": "slide"
    }
   },
   "outputs": [],
   "source": [
    "# names and ticket #s are too complicated and passengerID has no meaning\n",
    "# drop survived since to an extent that's what we're trying to uncover\n",
    "# axis = 1 means that these are columns\n",
    "df_filtered = df.drop([\"Name\", \"Ticket\", \"PassengerId\", \"Survived\"], \n",
    "                      axis=1)\n",
    "#Now what's missing?\n",
    "df_filtered.info()"
   ]
  },
  {
   "cell_type": "code",
   "execution_count": null,
   "metadata": {
    "slideshow": {
     "slide_type": "slide"
    }
   },
   "outputs": [],
   "source": [
    "#We're missing so much cabin data that it makes sense to drop it as a first pass\n",
    "df_c = df_filtered.drop([\"Cabin\"], axis=1)\n",
    "df_c.info()"
   ]
  },
  {
   "cell_type": "markdown",
   "metadata": {
    "slideshow": {
     "slide_type": "slide"
    }
   },
   "source": [
    "How do we find the ~170 missing rows? Fancy Indexing\n",
    "==========================\n",
    "![masking](figs/masking.png)\n",
    "\n",
    "modified from [software carpentry](http://v4.software-carpentry.org/matrix/indexing.html)\n"
   ]
  },
  {
   "cell_type": "code",
   "execution_count": null,
   "metadata": {},
   "outputs": [],
   "source": [
    "#isnull - is any cell missing a value? \n",
    "#any(axis=1) - which rows have at least 1 missing value?\n",
    "bad_rows = df_c.isnull().any(axis=1)\n",
    "#true = 1, false = 0, so sum() gives total # true\n",
    "print(bad_rows.sum(), \"missing rows\")"
   ]
  },
  {
   "cell_type": "code",
   "execution_count": null,
   "metadata": {
    "slideshow": {
     "slide_type": "slide"
    }
   },
   "outputs": [],
   "source": [
    "#~ means not, so ~bad_rows => good rows\n",
    "df_clean = df_c[~bad_rows]\n",
    "survived = df['Survived'][~bad_rows]\n",
    "\n",
    "#What state is our data in now?\n",
    "df_clean.info()"
   ]
  },
  {
   "cell_type": "markdown",
   "metadata": {
    "slideshow": {
     "slide_type": "slide"
    }
   },
   "source": [
    "# How do we deal with catagories and text? One-Hot Coding\n",
    "![one-hot](figs/word2vec-one-hot.png)\n",
    "source: [Amazing Power of Word Vectors](http://www.kdnuggets.com/2016/05/amazing-power-word-vectors.html)"
   ]
  },
  {
   "cell_type": "code",
   "execution_count": null,
   "metadata": {
    "slideshow": {
     "slide_type": "slide"
    }
   },
   "outputs": [],
   "source": [
    "#Let's one-hot code Pclass, Sex, & Embarked\n",
    "#http://pandas.pydata.org/pandas-docs/stable/generated/pandas.get_dummies.html\n",
    "df_coded = pd.get_dummies(df_clean, \n",
    "                          columns=[\"Pclass\", \"Sex\", \"Embarked\"])\n",
    "df_coded.head()"
   ]
  },
  {
   "cell_type": "code",
   "execution_count": null,
   "metadata": {
    "slideshow": {
     "slide_type": "slide"
    }
   },
   "outputs": [],
   "source": [
    "df_coded['Fare'].plot()\n",
    "df_coded['Age'].plot()\n",
    "plt.show() #removes matplotlib text under graph"
   ]
  },
  {
   "cell_type": "code",
   "execution_count": null,
   "metadata": {
    "scrolled": false,
    "slideshow": {
     "slide_type": "slide"
    }
   },
   "outputs": [],
   "source": [
    "# need to put continuous numerical values on comparable scale (normalize them)\n",
    "def zscore(x):\n",
    "    return ((x - x.mean())/x.std()) \n",
    "\n",
    "df_coded['AgeN'] = zscore(df_coded['Age'].values)\n",
    "df_coded['FareN'] = zscore(df_coded['Fare'].values)\n"
   ]
  },
  {
   "cell_type": "code",
   "execution_count": null,
   "metadata": {
    "slideshow": {
     "slide_type": "slide"
    }
   },
   "outputs": [],
   "source": [
    "df_coded['FareN'].plot()\n",
    "df_coded['AgeN'].plot()\n",
    "plt.show()"
   ]
  },
  {
   "cell_type": "code",
   "execution_count": null,
   "metadata": {
    "slideshow": {
     "slide_type": "slide"
    }
   },
   "outputs": [],
   "source": [
    "# What's the distribution of these?\n",
    "\n",
    "fig, (ax1, ax2) = plt.subplots(nrows=2)\n",
    "df_coded[['AgeN','FareN']].hist(ax = (ax1, ax2))\n",
    "plt.show()"
   ]
  },
  {
   "cell_type": "code",
   "execution_count": null,
   "metadata": {
    "slideshow": {
     "slide_type": "slide"
    }
   },
   "outputs": [],
   "source": [
    "#now it's a feature vector as far as our algs are concerned\n",
    "dfFV = df_coded.drop([\"Age\", \"Fare\"], axis=1)\n",
    "dfFV.head()"
   ]
  },
  {
   "cell_type": "code",
   "execution_count": null,
   "metadata": {
    "collapsed": true,
    "slideshow": {
     "slide_type": "slide"
    }
   },
   "outputs": [],
   "source": [
    "#let's save this cleaned dataset\n",
    "dfFV.to_csv(\"titanic_FV.csv\", index=False)\n",
    "#and let's save out the survived column of the \n",
    "survived.to_csv(\"survived.csv\", index=False)"
   ]
  }
 ],
 "metadata": {
  "celltoolbar": "Slideshow",
  "kernelspec": {
   "display_name": "Python 3",
   "language": "python",
   "name": "python3"
  },
  "language_info": {
   "codemirror_mode": {
    "name": "ipython",
    "version": 3
   },
   "file_extension": ".py",
   "mimetype": "text/x-python",
   "name": "python",
   "nbconvert_exporter": "python",
   "pygments_lexer": "ipython3",
   "version": "3.6.3"
  }
 },
 "nbformat": 4,
 "nbformat_minor": 1
}
